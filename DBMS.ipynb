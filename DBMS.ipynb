{
 "cells": [
  {
   "cell_type": "markdown",
   "metadata": {},
   "source": [
    "# Reports - Buyers and Sellers"
   ]
  },
  {
   "cell_type": "code",
   "execution_count": 11,
   "metadata": {},
   "outputs": [],
   "source": [
    "#Imports\n",
    "import numpy as np\n",
    "import pandas as pd\n",
    "import seaborn as sns\n",
    "import matplotlib.pyplot as plt\n",
    "import random\n",
    "import datetime\n",
    "import cufflinks as cf\n",
    "from plotly.offline import download_plotlyjs, init_notebook_mode, plot, iplot"
   ]
  },
  {
   "cell_type": "code",
   "execution_count": 12,
   "metadata": {},
   "outputs": [
    {
     "data": {
      "text/html": [
       "<script type=\"text/javascript\">window.PlotlyConfig = {MathJaxConfig: 'local'};</script><script type=\"text/javascript\">if (window.MathJax) {MathJax.Hub.Config({SVG: {font: \"STIX-Web\"}});}</script><script>requirejs.config({paths: { 'plotly': ['https://cdn.plot.ly/plotly-latest.min']},});if(!window._Plotly) {require(['plotly'],function(plotly) {window._Plotly=plotly;});}</script>"
      ],
      "text/vnd.plotly.v1+html": [
       "<script type=\"text/javascript\">window.PlotlyConfig = {MathJaxConfig: 'local'};</script><script type=\"text/javascript\">if (window.MathJax) {MathJax.Hub.Config({SVG: {font: \"STIX-Web\"}});}</script><script>requirejs.config({paths: { 'plotly': ['https://cdn.plot.ly/plotly-latest.min']},});if(!window._Plotly) {require(['plotly'],function(plotly) {window._Plotly=plotly;});}</script>"
      ]
     },
     "metadata": {},
     "output_type": "display_data"
    },
    {
     "data": {
      "text/html": [
       "<script type=\"text/javascript\">window.PlotlyConfig = {MathJaxConfig: 'local'};</script><script type=\"text/javascript\">if (window.MathJax) {MathJax.Hub.Config({SVG: {font: \"STIX-Web\"}});}</script><script>requirejs.config({paths: { 'plotly': ['https://cdn.plot.ly/plotly-latest.min']},});if(!window._Plotly) {require(['plotly'],function(plotly) {window._Plotly=plotly;});}</script>"
      ],
      "text/vnd.plotly.v1+html": [
       "<script type=\"text/javascript\">window.PlotlyConfig = {MathJaxConfig: 'local'};</script><script type=\"text/javascript\">if (window.MathJax) {MathJax.Hub.Config({SVG: {font: \"STIX-Web\"}});}</script><script>requirejs.config({paths: { 'plotly': ['https://cdn.plot.ly/plotly-latest.min']},});if(!window._Plotly) {require(['plotly'],function(plotly) {window._Plotly=plotly;});}</script>"
      ]
     },
     "metadata": {},
     "output_type": "display_data"
    }
   ],
   "source": [
    "# iPython Settings\n",
    "%matplotlib inline\n",
    "sns.set(rc={'figure.figsize':(15,9)})\n",
    "cf.go_offline()\n",
    "init_notebook_mode(connected = True)\n",
    "%matplotlib inline"
   ]
  },
  {
   "cell_type": "markdown",
   "metadata": {},
   "source": [
    "# Creating Functions "
   ]
  },
  {
   "cell_type": "code",
   "execution_count": 49,
   "metadata": {},
   "outputs": [],
   "source": [
    "def createMilkData(records, accs):\n",
    "    \n",
    "    min_date = pd.to_datetime('2015-01-01')\n",
    "    max_date = pd.to_datetime('2018-12-31')\n",
    "\n",
    "    d = (max_date - min_date).days + 1\n",
    "\n",
    "    df1_cols = [\"shift\", \"acc no\", \"fat(3-10%)\", \"clr(23-30)\", \"amount\", \"rate\", \"payment\"]\n",
    "    df1_rows = [int(i) + 1 for i in range(records)]\n",
    "    df1 = pd.DataFrame(np.random.randn(records, 7), df1_rows, df1_cols)\n",
    "    df1['date'] = min_date + pd.to_timedelta(pd.np.random.randint(d,size=records), unit='d')\n",
    "    df1['shift'] = df1[\"shift\"].apply(lambda x : int(x)%2)\n",
    "    df1['acc no'] = df1['acc no'].apply(lambda x : int(x*100)%accs + 1)\n",
    "    df1['fat(3-10%)'] = df1['fat(3-10%)'].apply(lambda x : float(round((x*100)%8 + 3, 2)))\n",
    "    df1['clr(23-30)'] = df1['clr(23-30)'].apply(lambda x : float(round((x*100)%8 + 23, 2)))\n",
    "    df1['amount'] = df1['amount'].apply(lambda x : int((x*1000)%500 + 500))\n",
    "    df1['snr'] = [int(i) for i in range (records)]\n",
    "    df1['snr'] = df1['snr'].apply(lambda x : float(df1['fat(3-10%)'].iloc[x])/5 + float(df1['clr(23-30)'].iloc[x])/4.0 + 0.6)\n",
    "    df1['rate'] = df1['rate'].apply(lambda x : round((x*100)%20 + 50, 2))\n",
    "    df1['payment'] = [int(i) for i in range (records)]\n",
    "    df1['payment'] = df1['payment'].apply(lambda x : df1['amount'].iloc[x]*df1['rate'].iloc[x])\n",
    "    df1['debt'] = pd.DataFrame([random.randint(0, 30000) for i in range(records)])\n",
    "    \n",
    "    return df1\n",
    "\n",
    "def createItemData(records, items, accs):\n",
    "    \n",
    "    min_date = pd.to_datetime('2015-01-01')\n",
    "    max_date = pd.to_datetime('2018-12-31')\n",
    "\n",
    "    d = (max_date - min_date).days + 1\n",
    "    \n",
    "    df_cols = ['acc no', 'item code', 'quantity', 'cost per unit', 'total amount', 'buy/sell']\n",
    "    df_rows = [int(i) + 1 for i in range(records)]\n",
    "    df = pd.DataFrame(np.random.randn(records, 6), df_rows, df_cols)\n",
    "    df['date'] = min_date + pd.to_timedelta(pd.np.random.randint(d,size=records), unit='d')\n",
    "    df['acc no'] = df['acc no'].apply(lambda x : int(x*100)%accs + 1)\n",
    "    #print(df['item code'])\n",
    "    df['item code'] = df['item code'].apply(lambda x : int(x*100)%items + 1)\n",
    "    df['quantity'] = df['quantity'].apply(lambda x : int((x*1000)%500 + 500))\n",
    "    #df['cost per unit'] = df['item code']\n",
    "    #df['cost per unit'] = df['item code'].apply(lambda x : int(x))\n",
    "    \n",
    "    items_list = [i + 1 for i in range(items)]\n",
    "    rate_list = [random.randint(50, 100) for i in range(items)]\n",
    "    ItemTranslation = dict(zip(items_list, rate_list))\n",
    "    df['cost per unit'] = df['item code'].apply(lambda x : ItemTranslation[x])\n",
    "    \n",
    "    df['total amount'] = [int(i) for i in range (records)] \n",
    "    df['total amount'] = df['total amount'].apply(lambda x : round(df['quantity'].iloc[x]*df['cost per unit'].iloc[x], 2))\n",
    "    df['buy/sell'] = df[\"buy/sell\"].apply(lambda x : int(x)%2)\n",
    "    df['debt'] = pd.DataFrame([random.randint(0, 30000) for i in range(records)])\n",
    "    \n",
    "    return df\n",
    "\n",
    "def filterByDate(df1, sd, sm, sy, ed, em, ey):\n",
    "    \n",
    "    return df1[(df1['date']>datetime.date(sy,sm,sd)) & (df1['date']<datetime.date(ey,em,ed))] \n",
    "\n",
    "def stdError(df, column):\n",
    "    #mean +- std/sqrt(count)\n",
    "    mean = df[column].describe()['mean']\n",
    "    std_int = df[column].describe()['std']/(df[column].describe()['count']**0.5)\n",
    "    \n",
    "    return (int(mean - std_int), int(mean + std_int))\n",
    "\n",
    "def sellerReportMilkGranular(df1, sd, sm, sy, ed, em, ey, acc_no):\n",
    "    \n",
    "    df = filterByDate(df1, sd, sm, sy, ed, em, ey)\n",
    "    df = df[df['acc no'] == int(acc_no)]\n",
    "    snr = stdError(df, 'snr')\n",
    "    total_amt = df['amount'].sum()\n",
    "    avg_amount = stdError(df, 'amount')\n",
    "    #iters = df.describe()['count']\n",
    "    morning_shift = df[df['shift'] == 0]['shift'].describe()['count']\n",
    "    evening_shift = df[df['shift'] == 1]['shift'].describe()['count']\n",
    "    iters = morning_shift + evening_shift\n",
    "    avg_debt = stdError(df, 'debt')\n",
    "    avg_rate = stdError(df, 'rate')\n",
    "    total_pay = df['payment'].sum()\n",
    "    avg_payment = stdError(df, 'payment')\n",
    "    \n",
    "    return f\"\"\"\n",
    "    Account Number: {acc_no}\\n\n",
    "    SNF: {snr}\\n\n",
    "    Total Amount: {total_amt}\\n\n",
    "    Average Amount: {avg_amount}\\n\n",
    "    Total Visits: {iters}\\n\n",
    "    Morning Shifts: {morning_shift}\\n\n",
    "    Evening Shifts: {evening_shift}\\n\n",
    "    Average Debt: {avg_debt}\\n\n",
    "    Average Rate: {avg_rate}\\n\n",
    "    Total Payment: {total_pay}\\n\n",
    "    Average Payment: {avg_payment}\\n\n",
    "    \n",
    "    \"\"\"\n",
    "    \n",
    "    #return [snr, (total_amt, avg_amount), (iters, morning_shift, evening_shift), avg_debt, avg_rate, (total_pay, avg_payment)]\n",
    "    \n",
    "\n",
    "def sellerReportMilk(df1, sd, sm, sy, ed, em, ey):\n",
    "    \n",
    "    df = filterByDate(df1, sd, sm, sy, ed, em, ey)\n",
    "    snr = stdError(df, 'snr')\n",
    "    total_amt = df['amount'].sum()\n",
    "    avg_amount = stdError(df, 'amount')\n",
    "    #iters = df.describe()['count']\n",
    "    morning_shift = df[df['shift'] == 0]['shift'].describe()['count']\n",
    "    evening_shift = df[df['shift'] == 1]['shift'].describe()['count']\n",
    "    iters = morning_shift + evening_shift\n",
    "    avg_debt = stdError(df, 'debt')\n",
    "    avg_rate = stdError(df, 'rate')\n",
    "    total_pay = df['payment'].sum()\n",
    "    avg_payment = stdError(df, 'payment')\n",
    "    \n",
    "    return f\"\"\"\n",
    "    SNF: {snr}\\n\n",
    "    Total Amount: {total_amt}\\n\n",
    "    Average Amount: {avg_amount}\\n\n",
    "    Total Visits: {iters}\\n\n",
    "    Morning Shifts: {morning_shift}\\n\n",
    "    Evening Shifts: {evening_shift}\\n\n",
    "    Average Debt: {avg_debt}\\n\n",
    "    Average Rate: {avg_rate}\\n\n",
    "    Total Payment: {total_pay}\\n\n",
    "    Average Payment: {avg_payment}\\n\n",
    "    \n",
    "    \"\"\"\n",
    "    \n",
    "    #return [snr, (total_amt, avg_amount), (iters, morning_shift, evening_shift), avg_debt, avg_rate, (total_pay, avg_payment)]\n",
    "\n",
    "\n",
    "\n",
    "def sellerReportMilkByShiftVisualGranular(df, acc_no):\n",
    "    #sns.countplot(x = 'shift', data = df[df['acc no'] == int(acc_no)])\n",
    "    \n",
    "    return None\n",
    "\n",
    "def sellerReportMilkByCount(df):\n",
    "    #sns.countplot(x = 'acc no', data = df)\n",
    "    \n",
    "    return None\n",
    "\n",
    "def passbookRecordsMilk(df1, acc_no, sd, sm, sy, ed, em, ey):\n",
    "    \n",
    "    df = filterByDate(df1, sd, sm, sy, ed, em, ey)\n",
    "    df = df[df['acc no'] == int(acc_no)]\n",
    "    df = df.sort_values('date')\n",
    "    df.drop(columns = 'acc no', inplace = True)\n",
    "    \n",
    "    records = [tuple(x) for x in df.to_records(index=False)]\n",
    "    \n",
    "    return df\n",
    "    #return records\n",
    "\n",
    "def visualizeMilkGranular(df1, acc_no, sd, sm, sy, ed, em, ey):\n",
    "    \n",
    "    df = filterByDate(df1, sd, sm, sy, ed, em, ey)\n",
    "    df = df[df['acc no'] == int(acc_no)]\n",
    "    df.sort_values('date')\n",
    "    \n",
    "    #df['amount'].iplot(kind = 'hist')\n",
    "    df['payment'].iplot(kind = 'line')\n",
    "    df[['fat(3-10%)', 'clr(23-30)']].iplot(kind = 'box')\n",
    "    df.iplot(kind = \"scatter\", x = 'snr', y = \"rate\", mode = \"markers\")\n",
    "    #df.iplot(kind = 'bar', x = 'shift', y = 'amount')\n",
    "    \n",
    "    return None\n",
    "\n",
    "def visualizeMilk(df1, sd, sm, sy, ed, em, ey):\n",
    "    \n",
    "    df = filterByDate(df1, sd, sm, sy, ed, em, ey)\n",
    "    df.sort_values('date')\n",
    "    #df['amount'].iplot(kind = 'hist')\n",
    "    df['payment'].iplot(kind = 'line')\n",
    "    df[['fat(3-10%)', 'clr(23-30)']].iplot(kind = 'box')\n",
    "    df.iplot(kind = \"scatter\", x = 'snr', y = \"rate\", mode = \"markers\")\n",
    "    #df.iplot(kind = 'bar', x = 'acc no', y = 'amount')\n",
    "    \n",
    "    return None\n",
    "\n",
    "def sellerReportItemsGranular(df1, sd, sm, sy, ed, em, ey, acc_no):\n",
    "    \n",
    "    df = filterByDate(df1, sd, sm, sy, ed, em, ey)\n",
    "    df = df[df['acc no'] == int(acc_no)]\n",
    "    total_amt = df['quantity'].sum()\n",
    "    avg_amount = stdError(df, 'quantity')\n",
    "    #iters = df.describe()['count']\n",
    "    buy = df[df['buy/sell'] == 0]['buy/sell'].describe()['count']\n",
    "    sell = df[df['buy/sell'] == 1]['buy/sell'].describe()['count']\n",
    "    iters = buy + sell\n",
    "    avg_debt = stdError(df, 'debt')\n",
    "    avg_rate = stdError(df, 'cost per unit')\n",
    "    total_purchased = df[df['buy/sell'] == 0]['buy/sell'].sum()\n",
    "    total_sold = df[df['buy/sell'] == 1]['buy/sell'].sum()\n",
    "    \n",
    "    return f\"\"\"\n",
    "    Account Number: {acc_no}\\n\n",
    "    Total Amount: {total_amt}\\n\n",
    "    Average Amount: {avg_amount}\\n\n",
    "    Total Visits: {iters}\\n\n",
    "    Items Brought: {buy}\\n\n",
    "    Items Sold: {sell}\\n\n",
    "    Average Debt: {avg_debt}\\n\n",
    "    Average Transaction Rate: {avg_rate}\\n\n",
    "    Total Entities Purchased: {total_purchased}\\n\n",
    "    Total Entities Sold: {total_sold}\\n\n",
    "    \"\"\"\n",
    "    \n",
    "    #return [(total_amt, avg_amount), (iters, buy, sell), avg_debt, avg_rate, (total_purchased, total_sold)]\n",
    "\n",
    "def sellerReportItems(df1, sd, sm, sy, ed, em, ey):\n",
    "    \n",
    "    df = filterByDate(df1, sd, sm, sy, ed, em, ey)\n",
    "    total_amt = df['quantity'].sum()\n",
    "    avg_amount = stdError(df, 'quantity')\n",
    "    #iters = df.describe()['count']\n",
    "    buy = df[df['buy/sell'] == 0]['buy/sell'].describe()['count']\n",
    "    sell = df[df['buy/sell'] == 1]['buy/sell'].describe()['count']\n",
    "    iters = buy + sell\n",
    "    avg_debt = stdError(df, 'debt')\n",
    "    avg_rate = stdError(df, 'cost per unit')\n",
    "    total_purchased = df[df['buy/sell'] == 0]['buy/sell'].sum()\n",
    "    total_sold = df[df['buy/sell'] == 1]['buy/sell'].sum()\n",
    "    \n",
    "    return f\"\"\"\n",
    "    Total Amount: {total_amt}\\n\n",
    "    Average Amount: {avg_amount}\\n\n",
    "    Total Visits: {iters}\\n\n",
    "    Items Brought: {buy}\\n\n",
    "    Items Sold: {sell}\\n\n",
    "    Average Debt: {avg_debt}\\n\n",
    "    Average Transaction Rate: {avg_rate}\\n\n",
    "    Total Entities Purchased: {total_purchased}\\n\n",
    "    Total Entities Sold: {total_sold}\\n\n",
    "    \"\"\"\n",
    "    \n",
    "    #return [(total_amt, avg_amount), (iters, buy, sell), avg_debt, avg_rate, (total_purchased, total_sold)]\n",
    "\n",
    "def passbookRecordsItemByAccount(df1, acc_no, sd, sm, sy, ed, em, ey):\n",
    "    \n",
    "    df = filterByDate(df1, sd, sm, sy, ed, em, ey)\n",
    "    #df = df[df['acc no'] == int(acc_no)]\n",
    "    df = df[df['acc no'] == acc_no]\n",
    "    df.sort_values('date')\n",
    "    df.drop(columns = acc_no, inplace = True)\n",
    "    \n",
    "    records = [tuple(x) for x in df.to_records(index=False)]\n",
    "    \n",
    "    return df\n",
    "    #return records\n",
    "\n",
    "def passbookRecordsItemByItem(df1, item_code, sd, sm, sy, ed, em, ey):\n",
    "    \n",
    "    df = filterByDate(df1, sd, sm, sy, ed, em, ey)\n",
    "    df = df[df['item code'] == int(item_code)]\n",
    "    df.sort_values('date')\n",
    "    df.drop(columns = item_code, inplace = True)\n",
    "    \n",
    "    records = [tuple(x) for x in df.to_records(index=False)]\n",
    "    \n",
    "    return df\n",
    "    #return records\n",
    "\n",
    "def visualizeItemGranularByItemID(df1, item_code, sd, sm, sy, ed, em, ey):\n",
    "    \n",
    "    df = filterByDate(df1, sd, sm, sy, ed, em, ey)\n",
    "    df = df[df['item code'] == int(item_code)]\n",
    "    df.sort_values('date')\n",
    "    \n",
    "    df.iplot(kind = 'bar', x = 'acc no', y = 'quantity')\n",
    "    #df[df['buy/sell'] == 0].iplot(kind = 'bar', x = 'acc no', y = 'quantity')\n",
    "    #df[df['buy/sell'] == 1].iplot(kind = 'bar', x = 'acc no', y = 'quantity')\n",
    "    \n",
    "    return None\n",
    "\n",
    "def visualizeItemGranularByAccId(df1, acc_no, sd, sm, sy, ed, em, ey):\n",
    "    \n",
    "    df = filterByDate(df1, sd, sm, sy, ed, em, ey)\n",
    "    df = df[df['acc no'] == int(acc_no)]\n",
    "    df.sort_values('date')\n",
    "    \n",
    "    df.iplot(kind = 'bar', x = 'item code', y = 'quantity')\n",
    "    #df[df['buy/sell'] == 0].iplot(kind = 'bar', x = 'item code', y = 'quantity')\n",
    "    #df[df['buy/sell'] == 1].iplot(kind = 'bar', x = 'item code', y = 'quantity')\n",
    "    \n",
    "def visualizeItems(df1, sd, sm, sy, ed, em, ey):\n",
    "    \n",
    "    df = filterByDate(df1, sd, sm, sy, ed, em, ey)\n",
    "    df.sort_values('date')\n",
    "    \n",
    "    df['total amount'].iplot(kind = 'line')\n",
    "    #df[df['buy/sell'] == 0]['total amount'].iplot(kind = 'line')\n",
    "    #df[df['buy/sell'] == 1]['total amount'].iplot(kind = 'line')\n",
    "    \n",
    "    \n",
    "    \n",
    "    \n",
    "    \n",
    "    \n",
    "    "
   ]
  },
  {
   "cell_type": "code",
   "execution_count": 14,
   "metadata": {},
   "outputs": [],
   "source": [
    "items = createItemData(200, 5, 20)\n",
    "milk = createMilkData(200, 10)\n",
    "\n"
   ]
  },
  {
   "cell_type": "code",
   "execution_count": 18,
   "metadata": {},
   "outputs": [
    {
     "data": {
      "text/html": [
       "<div>\n",
       "<style scoped>\n",
       "    .dataframe tbody tr th:only-of-type {\n",
       "        vertical-align: middle;\n",
       "    }\n",
       "\n",
       "    .dataframe tbody tr th {\n",
       "        vertical-align: top;\n",
       "    }\n",
       "\n",
       "    .dataframe thead th {\n",
       "        text-align: right;\n",
       "    }\n",
       "</style>\n",
       "<table border=\"1\" class=\"dataframe\">\n",
       "  <thead>\n",
       "    <tr style=\"text-align: right;\">\n",
       "      <th></th>\n",
       "      <th>acc no</th>\n",
       "      <th>item code</th>\n",
       "      <th>quantity</th>\n",
       "      <th>cost per unit</th>\n",
       "      <th>total amount</th>\n",
       "      <th>buy/sell</th>\n",
       "      <th>date</th>\n",
       "      <th>debt</th>\n",
       "    </tr>\n",
       "  </thead>\n",
       "  <tbody>\n",
       "    <tr>\n",
       "      <th>1</th>\n",
       "      <td>13</td>\n",
       "      <td>3</td>\n",
       "      <td>688</td>\n",
       "      <td>94</td>\n",
       "      <td>64672</td>\n",
       "      <td>0</td>\n",
       "      <td>2016-05-07</td>\n",
       "      <td>21560.0</td>\n",
       "    </tr>\n",
       "    <tr>\n",
       "      <th>2</th>\n",
       "      <td>11</td>\n",
       "      <td>2</td>\n",
       "      <td>658</td>\n",
       "      <td>87</td>\n",
       "      <td>57246</td>\n",
       "      <td>1</td>\n",
       "      <td>2015-01-15</td>\n",
       "      <td>15916.0</td>\n",
       "    </tr>\n",
       "    <tr>\n",
       "      <th>3</th>\n",
       "      <td>18</td>\n",
       "      <td>4</td>\n",
       "      <td>737</td>\n",
       "      <td>84</td>\n",
       "      <td>61908</td>\n",
       "      <td>0</td>\n",
       "      <td>2015-08-15</td>\n",
       "      <td>20682.0</td>\n",
       "    </tr>\n",
       "    <tr>\n",
       "      <th>4</th>\n",
       "      <td>5</td>\n",
       "      <td>4</td>\n",
       "      <td>904</td>\n",
       "      <td>84</td>\n",
       "      <td>75936</td>\n",
       "      <td>0</td>\n",
       "      <td>2015-12-13</td>\n",
       "      <td>28086.0</td>\n",
       "    </tr>\n",
       "    <tr>\n",
       "      <th>5</th>\n",
       "      <td>10</td>\n",
       "      <td>5</td>\n",
       "      <td>808</td>\n",
       "      <td>63</td>\n",
       "      <td>50904</td>\n",
       "      <td>1</td>\n",
       "      <td>2015-10-18</td>\n",
       "      <td>15669.0</td>\n",
       "    </tr>\n",
       "  </tbody>\n",
       "</table>\n",
       "</div>"
      ],
      "text/plain": [
       "   acc no  item code  quantity  cost per unit  total amount  buy/sell  \\\n",
       "1      13          3       688             94         64672         0   \n",
       "2      11          2       658             87         57246         1   \n",
       "3      18          4       737             84         61908         0   \n",
       "4       5          4       904             84         75936         0   \n",
       "5      10          5       808             63         50904         1   \n",
       "\n",
       "        date     debt  \n",
       "1 2016-05-07  21560.0  \n",
       "2 2015-01-15  15916.0  \n",
       "3 2015-08-15  20682.0  \n",
       "4 2015-12-13  28086.0  \n",
       "5 2015-10-18  15669.0  "
      ]
     },
     "execution_count": 18,
     "metadata": {},
     "output_type": "execute_result"
    }
   ],
   "source": [
    "items.head()"
   ]
  },
  {
   "cell_type": "code",
   "execution_count": 19,
   "metadata": {},
   "outputs": [
    {
     "data": {
      "text/html": [
       "<div>\n",
       "<style scoped>\n",
       "    .dataframe tbody tr th:only-of-type {\n",
       "        vertical-align: middle;\n",
       "    }\n",
       "\n",
       "    .dataframe tbody tr th {\n",
       "        vertical-align: top;\n",
       "    }\n",
       "\n",
       "    .dataframe thead th {\n",
       "        text-align: right;\n",
       "    }\n",
       "</style>\n",
       "<table border=\"1\" class=\"dataframe\">\n",
       "  <thead>\n",
       "    <tr style=\"text-align: right;\">\n",
       "      <th></th>\n",
       "      <th>shift</th>\n",
       "      <th>acc no</th>\n",
       "      <th>fat(3-10%)</th>\n",
       "      <th>clr(23-30)</th>\n",
       "      <th>amount</th>\n",
       "      <th>rate</th>\n",
       "      <th>payment</th>\n",
       "      <th>date</th>\n",
       "      <th>snr</th>\n",
       "      <th>debt</th>\n",
       "    </tr>\n",
       "  </thead>\n",
       "  <tbody>\n",
       "    <tr>\n",
       "      <th>1</th>\n",
       "      <td>0</td>\n",
       "      <td>10</td>\n",
       "      <td>6.68</td>\n",
       "      <td>27.40</td>\n",
       "      <td>799</td>\n",
       "      <td>58.52</td>\n",
       "      <td>46757.48</td>\n",
       "      <td>2016-11-27</td>\n",
       "      <td>8.7860</td>\n",
       "      <td>12057.0</td>\n",
       "    </tr>\n",
       "    <tr>\n",
       "      <th>2</th>\n",
       "      <td>0</td>\n",
       "      <td>4</td>\n",
       "      <td>6.03</td>\n",
       "      <td>26.07</td>\n",
       "      <td>818</td>\n",
       "      <td>60.73</td>\n",
       "      <td>49677.14</td>\n",
       "      <td>2016-05-13</td>\n",
       "      <td>8.3235</td>\n",
       "      <td>9169.0</td>\n",
       "    </tr>\n",
       "    <tr>\n",
       "      <th>3</th>\n",
       "      <td>0</td>\n",
       "      <td>10</td>\n",
       "      <td>4.57</td>\n",
       "      <td>26.01</td>\n",
       "      <td>936</td>\n",
       "      <td>65.97</td>\n",
       "      <td>61747.92</td>\n",
       "      <td>2017-11-07</td>\n",
       "      <td>8.0165</td>\n",
       "      <td>3404.0</td>\n",
       "    </tr>\n",
       "    <tr>\n",
       "      <th>4</th>\n",
       "      <td>0</td>\n",
       "      <td>2</td>\n",
       "      <td>6.65</td>\n",
       "      <td>28.71</td>\n",
       "      <td>911</td>\n",
       "      <td>58.15</td>\n",
       "      <td>52974.65</td>\n",
       "      <td>2018-06-24</td>\n",
       "      <td>9.1075</td>\n",
       "      <td>1558.0</td>\n",
       "    </tr>\n",
       "    <tr>\n",
       "      <th>5</th>\n",
       "      <td>1</td>\n",
       "      <td>5</td>\n",
       "      <td>4.83</td>\n",
       "      <td>25.21</td>\n",
       "      <td>603</td>\n",
       "      <td>52.84</td>\n",
       "      <td>31862.52</td>\n",
       "      <td>2017-03-18</td>\n",
       "      <td>7.8685</td>\n",
       "      <td>18510.0</td>\n",
       "    </tr>\n",
       "  </tbody>\n",
       "</table>\n",
       "</div>"
      ],
      "text/plain": [
       "   shift  acc no  fat(3-10%)  clr(23-30)  amount   rate   payment       date  \\\n",
       "1      0      10        6.68       27.40     799  58.52  46757.48 2016-11-27   \n",
       "2      0       4        6.03       26.07     818  60.73  49677.14 2016-05-13   \n",
       "3      0      10        4.57       26.01     936  65.97  61747.92 2017-11-07   \n",
       "4      0       2        6.65       28.71     911  58.15  52974.65 2018-06-24   \n",
       "5      1       5        4.83       25.21     603  52.84  31862.52 2017-03-18   \n",
       "\n",
       "      snr     debt  \n",
       "1  8.7860  12057.0  \n",
       "2  8.3235   9169.0  \n",
       "3  8.0165   3404.0  \n",
       "4  9.1075   1558.0  \n",
       "5  7.8685  18510.0  "
      ]
     },
     "execution_count": 19,
     "metadata": {},
     "output_type": "execute_result"
    }
   ],
   "source": [
    "milk.head()"
   ]
  },
  {
   "cell_type": "code",
   "execution_count": 16,
   "metadata": {},
   "outputs": [
    {
     "name": "stdout",
     "output_type": "stream",
     "text": [
      "\n",
      "    Account Number: 1\n",
      "\n",
      "    SNR: (8, 8)\n",
      "\n",
      "    Total Amount: 4220\n",
      "\n",
      "    Average Amount: (648, 758)\n",
      "\n",
      "    Total Visits: 6.0\n",
      "\n",
      "    Morning Shifts: 4.0\n",
      "\n",
      "    Evening Shifts: 2.0\n",
      "\n",
      "    Average Debt: (13832, 19546)\n",
      "\n",
      "    Average Rate: (58, 65)\n",
      "\n",
      "    Total Payment: 261460.87999999998\n",
      "\n",
      "    Average Payment: (39772, 47381)\n",
      "\n",
      "    \n",
      "    \n"
     ]
    },
    {
     "name": "stderr",
     "output_type": "stream",
     "text": [
      "/usr/lib/python3/dist-packages/ipykernel_launcher.py:58: FutureWarning:\n",
      "\n",
      "Comparing Series of datetimes with 'datetime.date'.  Currently, the\n",
      "'datetime.date' is coerced to a datetime. In the future pandas will\n",
      "not coerce, and a TypeError will be raised. To retain the current\n",
      "behavior, convert the 'datetime.date' to a datetime with\n",
      "'pd.Timestamp'.\n",
      "\n"
     ]
    }
   ],
   "source": [
    "print(sellerReportMilkGranular(milk, 1, 1, 2017, 31, 12, 2017, 1))"
   ]
  },
  {
   "cell_type": "code",
   "execution_count": 19,
   "metadata": {},
   "outputs": [
    {
     "name": "stdout",
     "output_type": "stream",
     "text": [
      "\n",
      "    SNF: (8, 8)\n",
      "\n",
      "    Total Amount: 38116\n",
      "\n",
      "    Average Amount: (715, 750)\n",
      "\n",
      "    Total Visits: 52.0\n",
      "\n",
      "    Morning Shifts: 44.0\n",
      "\n",
      "    Evening Shifts: 8.0\n",
      "\n",
      "    Average Debt: (13819, 16055)\n",
      "\n",
      "    Average Rate: (60, 61)\n",
      "\n",
      "    Total Payment: 2313132.6200000006\n",
      "\n",
      "    Average Payment: (43323, 45643)\n",
      "\n",
      "    \n",
      "    \n"
     ]
    },
    {
     "name": "stderr",
     "output_type": "stream",
     "text": [
      "/usr/lib/python3/dist-packages/ipykernel_launcher.py:58: FutureWarning:\n",
      "\n",
      "Comparing Series of datetimes with 'datetime.date'.  Currently, the\n",
      "'datetime.date' is coerced to a datetime. In the future pandas will\n",
      "not coerce, and a TypeError will be raised. To retain the current\n",
      "behavior, convert the 'datetime.date' to a datetime with\n",
      "'pd.Timestamp'.\n",
      "\n"
     ]
    }
   ],
   "source": [
    "print(sellerReportMilk(milk, 1, 1, 2017, 31, 12, 2017))"
   ]
  },
  {
   "cell_type": "code",
   "execution_count": 27,
   "metadata": {},
   "outputs": [
    {
     "name": "stdout",
     "output_type": "stream",
     "text": [
      "     shift  fat(3-10%)  clr(23-30)  amount   rate   payment       date  \\\n",
      "43       1        6.70       29.76     856  69.81  59757.36 2017-02-25   \n",
      "190      0        9.69       26.93     516  66.62  34375.92 2017-03-28   \n",
      "19       0        3.74       29.47     826  50.37  41605.62 2017-04-05   \n",
      "33       0        9.04       25.90     758  63.94  48466.52 2017-10-08   \n",
      "35       1        4.44       23.14     591  69.33  40974.03 2017-10-24   \n",
      "15       0        7.60       25.01     673  53.91  36281.43 2017-10-30   \n",
      "\n",
      "        snr     debt  \n",
      "43   9.3800   8415.0  \n",
      "190  9.2705  20138.0  \n",
      "19   8.7155  16836.0  \n",
      "33   8.8830   9167.0  \n",
      "35   7.2730  26877.0  \n",
      "15   8.3725  18704.0  \n"
     ]
    },
    {
     "name": "stderr",
     "output_type": "stream",
     "text": [
      "/usr/lib/python3/dist-packages/ipykernel_launcher.py:58: FutureWarning:\n",
      "\n",
      "Comparing Series of datetimes with 'datetime.date'.  Currently, the\n",
      "'datetime.date' is coerced to a datetime. In the future pandas will\n",
      "not coerce, and a TypeError will be raised. To retain the current\n",
      "behavior, convert the 'datetime.date' to a datetime with\n",
      "'pd.Timestamp'.\n",
      "\n"
     ]
    }
   ],
   "source": [
    "print(passbookRecordsMilk(milk, 1, 1, 1, 2017, 31, 12, 2017))"
   ]
  },
  {
   "cell_type": "code",
   "execution_count": 35,
   "metadata": {},
   "outputs": [
    {
     "name": "stderr",
     "output_type": "stream",
     "text": [
      "/usr/lib/python3/dist-packages/ipykernel_launcher.py:58: FutureWarning:\n",
      "\n",
      "Comparing Series of datetimes with 'datetime.date'.  Currently, the\n",
      "'datetime.date' is coerced to a datetime. In the future pandas will\n",
      "not coerce, and a TypeError will be raised. To retain the current\n",
      "behavior, convert the 'datetime.date' to a datetime with\n",
      "'pd.Timestamp'.\n",
      "\n"
     ]
    },
    {
     "data": {
      "application/vnd.plotly.v1+json": {
       "config": {
        "linkText": "Export to plot.ly",
        "plotlyServerURL": "https://plot.ly",
        "showLink": true
       },
       "data": [
        {
         "line": {
          "color": "rgba(255, 153, 51, 1.0)",
          "dash": "solid",
          "shape": "linear",
          "width": 1.3
         },
         "mode": "lines",
         "name": "payment",
         "text": "",
         "type": "scatter",
         "uid": "34249ac2-72f6-463e-a8bb-0145c80e06e2",
         "x": [
          15,
          19,
          33,
          35,
          43,
          190
         ],
         "y": [
          36281.43,
          41605.619999999995,
          48466.52,
          40974.03,
          59757.36,
          34375.920000000006
         ]
        }
       ],
       "layout": {
        "legend": {
         "bgcolor": "#F5F6F9",
         "font": {
          "color": "#4D5663"
         }
        },
        "paper_bgcolor": "#F5F6F9",
        "plot_bgcolor": "#F5F6F9",
        "title": {
         "font": {
          "color": "#4D5663"
         }
        },
        "xaxis": {
         "gridcolor": "#E1E5ED",
         "showgrid": true,
         "tickfont": {
          "color": "#4D5663"
         },
         "title": {
          "font": {
           "color": "#4D5663"
          },
          "text": ""
         },
         "zerolinecolor": "#E1E5ED"
        },
        "yaxis": {
         "gridcolor": "#E1E5ED",
         "showgrid": true,
         "tickfont": {
          "color": "#4D5663"
         },
         "title": {
          "font": {
           "color": "#4D5663"
          },
          "text": ""
         },
         "zerolinecolor": "#E1E5ED"
        }
       }
      },
      "text/html": [
       "<div id=\"34cdda58-a4fc-47b5-90cb-c9ac1bee1b5d\" style=\"height: 525px; width: 100%;\" class=\"plotly-graph-div\"></div><script type=\"text/javascript\">require([\"plotly\"], function(Plotly) { window.PLOTLYENV=window.PLOTLYENV || {};window.PLOTLYENV.BASE_URL=\"https://plot.ly\";Plotly.newPlot(\"34cdda58-a4fc-47b5-90cb-c9ac1bee1b5d\", [{\"line\": {\"color\": \"rgba(255, 153, 51, 1.0)\", \"dash\": \"solid\", \"shape\": \"linear\", \"width\": 1.3}, \"mode\": \"lines\", \"name\": \"payment\", \"text\": \"\", \"x\": [15, 19, 33, 35, 43, 190], \"y\": [36281.43, 41605.619999999995, 48466.52, 40974.03, 59757.36, 34375.920000000006], \"type\": \"scatter\", \"uid\": \"b21d0181-6534-41bb-9aa2-bb55697e219b\"}], {\"legend\": {\"bgcolor\": \"#F5F6F9\", \"font\": {\"color\": \"#4D5663\"}}, \"paper_bgcolor\": \"#F5F6F9\", \"plot_bgcolor\": \"#F5F6F9\", \"title\": {\"font\": {\"color\": \"#4D5663\"}}, \"xaxis\": {\"gridcolor\": \"#E1E5ED\", \"showgrid\": true, \"tickfont\": {\"color\": \"#4D5663\"}, \"title\": {\"text\": \"\", \"font\": {\"color\": \"#4D5663\"}}, \"zerolinecolor\": \"#E1E5ED\"}, \"yaxis\": {\"gridcolor\": \"#E1E5ED\", \"showgrid\": true, \"tickfont\": {\"color\": \"#4D5663\"}, \"title\": {\"text\": \"\", \"font\": {\"color\": \"#4D5663\"}}, \"zerolinecolor\": \"#E1E5ED\"}}, {\"showLink\": true, \"linkText\": \"Export to plot.ly\", \"plotlyServerURL\": \"https://plot.ly\"})});</script><script type=\"text/javascript\">window.addEventListener(\"resize\", function(){window._Plotly.Plots.resize(document.getElementById(\"34cdda58-a4fc-47b5-90cb-c9ac1bee1b5d\"));});</script>"
      ],
      "text/vnd.plotly.v1+html": [
       "<div id=\"34cdda58-a4fc-47b5-90cb-c9ac1bee1b5d\" style=\"height: 525px; width: 100%;\" class=\"plotly-graph-div\"></div><script type=\"text/javascript\">require([\"plotly\"], function(Plotly) { window.PLOTLYENV=window.PLOTLYENV || {};window.PLOTLYENV.BASE_URL=\"https://plot.ly\";Plotly.newPlot(\"34cdda58-a4fc-47b5-90cb-c9ac1bee1b5d\", [{\"line\": {\"color\": \"rgba(255, 153, 51, 1.0)\", \"dash\": \"solid\", \"shape\": \"linear\", \"width\": 1.3}, \"mode\": \"lines\", \"name\": \"payment\", \"text\": \"\", \"x\": [15, 19, 33, 35, 43, 190], \"y\": [36281.43, 41605.619999999995, 48466.52, 40974.03, 59757.36, 34375.920000000006], \"type\": \"scatter\", \"uid\": \"b21d0181-6534-41bb-9aa2-bb55697e219b\"}], {\"legend\": {\"bgcolor\": \"#F5F6F9\", \"font\": {\"color\": \"#4D5663\"}}, \"paper_bgcolor\": \"#F5F6F9\", \"plot_bgcolor\": \"#F5F6F9\", \"title\": {\"font\": {\"color\": \"#4D5663\"}}, \"xaxis\": {\"gridcolor\": \"#E1E5ED\", \"showgrid\": true, \"tickfont\": {\"color\": \"#4D5663\"}, \"title\": {\"text\": \"\", \"font\": {\"color\": \"#4D5663\"}}, \"zerolinecolor\": \"#E1E5ED\"}, \"yaxis\": {\"gridcolor\": \"#E1E5ED\", \"showgrid\": true, \"tickfont\": {\"color\": \"#4D5663\"}, \"title\": {\"text\": \"\", \"font\": {\"color\": \"#4D5663\"}}, \"zerolinecolor\": \"#E1E5ED\"}}, {\"showLink\": true, \"linkText\": \"Export to plot.ly\", \"plotlyServerURL\": \"https://plot.ly\"})});</script><script type=\"text/javascript\">window.addEventListener(\"resize\", function(){window._Plotly.Plots.resize(document.getElementById(\"34cdda58-a4fc-47b5-90cb-c9ac1bee1b5d\"));});</script>"
      ]
     },
     "metadata": {},
     "output_type": "display_data"
    },
    {
     "data": {
      "application/vnd.plotly.v1+json": {
       "config": {
        "linkText": "Export to plot.ly",
        "plotlyServerURL": "https://plot.ly",
        "showLink": true
       },
       "data": [
        {
         "boxpoints": false,
         "line": {
          "width": 1.3
         },
         "marker": {
          "color": "rgba(255, 153, 51, 1.0)"
         },
         "name": "fat(3-10%)",
         "orientation": "v",
         "type": "box",
         "uid": "57d928be-84fd-47d8-a00f-8c669c0494ad",
         "y": [
          7.6,
          3.74,
          9.04,
          4.44,
          6.7,
          9.69
         ]
        },
        {
         "boxpoints": false,
         "line": {
          "width": 1.3
         },
         "marker": {
          "color": "rgba(55, 128, 191, 1.0)"
         },
         "name": "clr(23-30)",
         "orientation": "v",
         "type": "box",
         "uid": "b93caa7c-af84-41d9-bdbc-c2ec3902a27b",
         "y": [
          25.01,
          29.47,
          25.9,
          23.14,
          29.76,
          26.93
         ]
        }
       ],
       "layout": {
        "legend": {
         "bgcolor": "#F5F6F9",
         "font": {
          "color": "#4D5663"
         }
        },
        "paper_bgcolor": "#F5F6F9",
        "plot_bgcolor": "#F5F6F9",
        "title": {
         "font": {
          "color": "#4D5663"
         }
        },
        "xaxis": {
         "gridcolor": "#E1E5ED",
         "showgrid": true,
         "tickfont": {
          "color": "#4D5663"
         },
         "title": {
          "font": {
           "color": "#4D5663"
          },
          "text": ""
         },
         "zerolinecolor": "#E1E5ED"
        },
        "yaxis": {
         "gridcolor": "#E1E5ED",
         "showgrid": true,
         "tickfont": {
          "color": "#4D5663"
         },
         "title": {
          "font": {
           "color": "#4D5663"
          },
          "text": ""
         },
         "zerolinecolor": "#E1E5ED"
        }
       }
      },
      "text/html": [
       "<div id=\"3836987f-a804-4945-b20b-b847b26b05f2\" style=\"height: 525px; width: 100%;\" class=\"plotly-graph-div\"></div><script type=\"text/javascript\">require([\"plotly\"], function(Plotly) { window.PLOTLYENV=window.PLOTLYENV || {};window.PLOTLYENV.BASE_URL=\"https://plot.ly\";Plotly.newPlot(\"3836987f-a804-4945-b20b-b847b26b05f2\", [{\"boxpoints\": false, \"line\": {\"width\": 1.3}, \"marker\": {\"color\": \"rgba(255, 153, 51, 1.0)\"}, \"name\": \"fat(3-10%)\", \"orientation\": \"v\", \"y\": [7.6, 3.74, 9.04, 4.44, 6.7, 9.69], \"type\": \"box\", \"uid\": \"64d794d7-aea4-462b-ae0f-16b368fb83ba\"}, {\"boxpoints\": false, \"line\": {\"width\": 1.3}, \"marker\": {\"color\": \"rgba(55, 128, 191, 1.0)\"}, \"name\": \"clr(23-30)\", \"orientation\": \"v\", \"y\": [25.01, 29.47, 25.9, 23.14, 29.76, 26.93], \"type\": \"box\", \"uid\": \"c58abeca-4b30-4fe7-9ac9-711fcfcd26a5\"}], {\"legend\": {\"bgcolor\": \"#F5F6F9\", \"font\": {\"color\": \"#4D5663\"}}, \"paper_bgcolor\": \"#F5F6F9\", \"plot_bgcolor\": \"#F5F6F9\", \"title\": {\"font\": {\"color\": \"#4D5663\"}}, \"xaxis\": {\"gridcolor\": \"#E1E5ED\", \"showgrid\": true, \"tickfont\": {\"color\": \"#4D5663\"}, \"title\": {\"text\": \"\", \"font\": {\"color\": \"#4D5663\"}}, \"zerolinecolor\": \"#E1E5ED\"}, \"yaxis\": {\"gridcolor\": \"#E1E5ED\", \"showgrid\": true, \"tickfont\": {\"color\": \"#4D5663\"}, \"title\": {\"text\": \"\", \"font\": {\"color\": \"#4D5663\"}}, \"zerolinecolor\": \"#E1E5ED\"}}, {\"showLink\": true, \"linkText\": \"Export to plot.ly\", \"plotlyServerURL\": \"https://plot.ly\"})});</script><script type=\"text/javascript\">window.addEventListener(\"resize\", function(){window._Plotly.Plots.resize(document.getElementById(\"3836987f-a804-4945-b20b-b847b26b05f2\"));});</script>"
      ],
      "text/vnd.plotly.v1+html": [
       "<div id=\"3836987f-a804-4945-b20b-b847b26b05f2\" style=\"height: 525px; width: 100%;\" class=\"plotly-graph-div\"></div><script type=\"text/javascript\">require([\"plotly\"], function(Plotly) { window.PLOTLYENV=window.PLOTLYENV || {};window.PLOTLYENV.BASE_URL=\"https://plot.ly\";Plotly.newPlot(\"3836987f-a804-4945-b20b-b847b26b05f2\", [{\"boxpoints\": false, \"line\": {\"width\": 1.3}, \"marker\": {\"color\": \"rgba(255, 153, 51, 1.0)\"}, \"name\": \"fat(3-10%)\", \"orientation\": \"v\", \"y\": [7.6, 3.74, 9.04, 4.44, 6.7, 9.69], \"type\": \"box\", \"uid\": \"64d794d7-aea4-462b-ae0f-16b368fb83ba\"}, {\"boxpoints\": false, \"line\": {\"width\": 1.3}, \"marker\": {\"color\": \"rgba(55, 128, 191, 1.0)\"}, \"name\": \"clr(23-30)\", \"orientation\": \"v\", \"y\": [25.01, 29.47, 25.9, 23.14, 29.76, 26.93], \"type\": \"box\", \"uid\": \"c58abeca-4b30-4fe7-9ac9-711fcfcd26a5\"}], {\"legend\": {\"bgcolor\": \"#F5F6F9\", \"font\": {\"color\": \"#4D5663\"}}, \"paper_bgcolor\": \"#F5F6F9\", \"plot_bgcolor\": \"#F5F6F9\", \"title\": {\"font\": {\"color\": \"#4D5663\"}}, \"xaxis\": {\"gridcolor\": \"#E1E5ED\", \"showgrid\": true, \"tickfont\": {\"color\": \"#4D5663\"}, \"title\": {\"text\": \"\", \"font\": {\"color\": \"#4D5663\"}}, \"zerolinecolor\": \"#E1E5ED\"}, \"yaxis\": {\"gridcolor\": \"#E1E5ED\", \"showgrid\": true, \"tickfont\": {\"color\": \"#4D5663\"}, \"title\": {\"text\": \"\", \"font\": {\"color\": \"#4D5663\"}}, \"zerolinecolor\": \"#E1E5ED\"}}, {\"showLink\": true, \"linkText\": \"Export to plot.ly\", \"plotlyServerURL\": \"https://plot.ly\"})});</script><script type=\"text/javascript\">window.addEventListener(\"resize\", function(){window._Plotly.Plots.resize(document.getElementById(\"3836987f-a804-4945-b20b-b847b26b05f2\"));});</script>"
      ]
     },
     "metadata": {},
     "output_type": "display_data"
    },
    {
     "data": {
      "application/vnd.plotly.v1+json": {
       "config": {
        "linkText": "Export to plot.ly",
        "plotlyServerURL": "https://plot.ly",
        "showLink": true
       },
       "data": [
        {
         "line": {
          "color": "rgba(255, 153, 51, 1.0)",
          "dash": "solid",
          "shape": "linear",
          "width": 1.3
         },
         "marker": {
          "size": 12,
          "symbol": "circle"
         },
         "mode": "markers",
         "name": "rate",
         "text": "",
         "type": "scatter",
         "uid": "1cfd0a22-c5c7-4e7d-8b58-2cc466581d0c",
         "x": [
          8.3725,
          8.715499999999999,
          8.883,
          7.273,
          9.38,
          9.2705
         ],
         "y": [
          53.91,
          50.37,
          63.94,
          69.33,
          69.81,
          66.62
         ]
        }
       ],
       "layout": {
        "legend": {
         "bgcolor": "#F5F6F9",
         "font": {
          "color": "#4D5663"
         }
        },
        "paper_bgcolor": "#F5F6F9",
        "plot_bgcolor": "#F5F6F9",
        "title": {
         "font": {
          "color": "#4D5663"
         }
        },
        "xaxis": {
         "gridcolor": "#E1E5ED",
         "showgrid": true,
         "tickfont": {
          "color": "#4D5663"
         },
         "title": {
          "font": {
           "color": "#4D5663"
          },
          "text": ""
         },
         "zerolinecolor": "#E1E5ED"
        },
        "yaxis": {
         "gridcolor": "#E1E5ED",
         "showgrid": true,
         "tickfont": {
          "color": "#4D5663"
         },
         "title": {
          "font": {
           "color": "#4D5663"
          },
          "text": ""
         },
         "zerolinecolor": "#E1E5ED"
        }
       }
      },
      "text/html": [
       "<div id=\"b24c554d-a814-43b3-8438-daa950b60e09\" style=\"height: 525px; width: 100%;\" class=\"plotly-graph-div\"></div><script type=\"text/javascript\">require([\"plotly\"], function(Plotly) { window.PLOTLYENV=window.PLOTLYENV || {};window.PLOTLYENV.BASE_URL=\"https://plot.ly\";Plotly.newPlot(\"b24c554d-a814-43b3-8438-daa950b60e09\", [{\"line\": {\"color\": \"rgba(255, 153, 51, 1.0)\", \"dash\": \"solid\", \"shape\": \"linear\", \"width\": 1.3}, \"marker\": {\"size\": 12, \"symbol\": \"circle\"}, \"mode\": \"markers\", \"name\": \"rate\", \"text\": \"\", \"x\": [8.3725, 8.715499999999999, 8.883, 7.273, 9.38, 9.2705], \"y\": [53.91, 50.37, 63.94, 69.33, 69.81, 66.62], \"type\": \"scatter\", \"uid\": \"70953805-fed1-41c1-bb63-91020ee1e7a6\"}], {\"legend\": {\"bgcolor\": \"#F5F6F9\", \"font\": {\"color\": \"#4D5663\"}}, \"paper_bgcolor\": \"#F5F6F9\", \"plot_bgcolor\": \"#F5F6F9\", \"title\": {\"font\": {\"color\": \"#4D5663\"}}, \"xaxis\": {\"gridcolor\": \"#E1E5ED\", \"showgrid\": true, \"tickfont\": {\"color\": \"#4D5663\"}, \"title\": {\"text\": \"\", \"font\": {\"color\": \"#4D5663\"}}, \"zerolinecolor\": \"#E1E5ED\"}, \"yaxis\": {\"gridcolor\": \"#E1E5ED\", \"showgrid\": true, \"tickfont\": {\"color\": \"#4D5663\"}, \"title\": {\"text\": \"\", \"font\": {\"color\": \"#4D5663\"}}, \"zerolinecolor\": \"#E1E5ED\"}}, {\"showLink\": true, \"linkText\": \"Export to plot.ly\", \"plotlyServerURL\": \"https://plot.ly\"})});</script><script type=\"text/javascript\">window.addEventListener(\"resize\", function(){window._Plotly.Plots.resize(document.getElementById(\"b24c554d-a814-43b3-8438-daa950b60e09\"));});</script>"
      ],
      "text/vnd.plotly.v1+html": [
       "<div id=\"b24c554d-a814-43b3-8438-daa950b60e09\" style=\"height: 525px; width: 100%;\" class=\"plotly-graph-div\"></div><script type=\"text/javascript\">require([\"plotly\"], function(Plotly) { window.PLOTLYENV=window.PLOTLYENV || {};window.PLOTLYENV.BASE_URL=\"https://plot.ly\";Plotly.newPlot(\"b24c554d-a814-43b3-8438-daa950b60e09\", [{\"line\": {\"color\": \"rgba(255, 153, 51, 1.0)\", \"dash\": \"solid\", \"shape\": \"linear\", \"width\": 1.3}, \"marker\": {\"size\": 12, \"symbol\": \"circle\"}, \"mode\": \"markers\", \"name\": \"rate\", \"text\": \"\", \"x\": [8.3725, 8.715499999999999, 8.883, 7.273, 9.38, 9.2705], \"y\": [53.91, 50.37, 63.94, 69.33, 69.81, 66.62], \"type\": \"scatter\", \"uid\": \"70953805-fed1-41c1-bb63-91020ee1e7a6\"}], {\"legend\": {\"bgcolor\": \"#F5F6F9\", \"font\": {\"color\": \"#4D5663\"}}, \"paper_bgcolor\": \"#F5F6F9\", \"plot_bgcolor\": \"#F5F6F9\", \"title\": {\"font\": {\"color\": \"#4D5663\"}}, \"xaxis\": {\"gridcolor\": \"#E1E5ED\", \"showgrid\": true, \"tickfont\": {\"color\": \"#4D5663\"}, \"title\": {\"text\": \"\", \"font\": {\"color\": \"#4D5663\"}}, \"zerolinecolor\": \"#E1E5ED\"}, \"yaxis\": {\"gridcolor\": \"#E1E5ED\", \"showgrid\": true, \"tickfont\": {\"color\": \"#4D5663\"}, \"title\": {\"text\": \"\", \"font\": {\"color\": \"#4D5663\"}}, \"zerolinecolor\": \"#E1E5ED\"}}, {\"showLink\": true, \"linkText\": \"Export to plot.ly\", \"plotlyServerURL\": \"https://plot.ly\"})});</script><script type=\"text/javascript\">window.addEventListener(\"resize\", function(){window._Plotly.Plots.resize(document.getElementById(\"b24c554d-a814-43b3-8438-daa950b60e09\"));});</script>"
      ]
     },
     "metadata": {},
     "output_type": "display_data"
    }
   ],
   "source": [
    "visualizeMilkGranular(milk, 1, 1, 1, 2017, 31, 12, 2017)"
   ]
  },
  {
   "cell_type": "code",
   "execution_count": 36,
   "metadata": {},
   "outputs": [
    {
     "name": "stderr",
     "output_type": "stream",
     "text": [
      "/usr/lib/python3/dist-packages/ipykernel_launcher.py:58: FutureWarning:\n",
      "\n",
      "Comparing Series of datetimes with 'datetime.date'.  Currently, the\n",
      "'datetime.date' is coerced to a datetime. In the future pandas will\n",
      "not coerce, and a TypeError will be raised. To retain the current\n",
      "behavior, convert the 'datetime.date' to a datetime with\n",
      "'pd.Timestamp'.\n",
      "\n"
     ]
    },
    {
     "data": {
      "application/vnd.plotly.v1+json": {
       "config": {
        "linkText": "Export to plot.ly",
        "plotlyServerURL": "https://plot.ly",
        "showLink": true
       },
       "data": [
        {
         "line": {
          "color": "rgba(255, 153, 51, 1.0)",
          "dash": "solid",
          "shape": "linear",
          "width": 1.3
         },
         "mode": "lines",
         "name": "payment",
         "text": "",
         "type": "scatter",
         "uid": "3be1c424-03ec-4464-be96-206e3d72a6ed",
         "x": [
          9,
          13,
          15,
          17,
          19,
          23,
          28,
          33,
          34,
          35,
          38,
          43,
          45,
          55,
          62,
          64,
          67,
          71,
          80,
          84,
          86,
          88,
          91,
          92,
          97,
          102,
          104,
          112,
          114,
          121,
          123,
          130,
          131,
          136,
          139,
          141,
          147,
          149,
          151,
          156,
          158,
          159,
          171,
          172,
          184,
          188,
          189,
          190,
          192,
          194,
          195,
          197
         ],
         "y": [
          46396.06,
          39092.16,
          36281.43,
          47826.4,
          41605.619999999995,
          55996.380000000005,
          37958.94,
          48466.52,
          45550.3,
          40974.03,
          42757.380000000005,
          59757.36,
          43821.9,
          32061.75,
          39985.96,
          40723.92,
          38259,
          51577.66,
          54498.84,
          42885.68,
          44140.799999999996,
          55016.72,
          33125,
          47529.36,
          41228.6,
          50965.2,
          56829.049999999996,
          33814.08,
          56349.899999999994,
          49234.32000000001,
          54796.409999999996,
          57348.07,
          42582.6,
          36230.22,
          35012.91,
          47822.81,
          46629.840000000004,
          35049.74,
          44253.04,
          33179.25,
          52858.75,
          63687.15000000001,
          33077.1,
          34282.08,
          48702.8,
          54746.799999999996,
          38067.450000000004,
          34375.920000000006,
          51248.6,
          33931.7,
          47219.88,
          33319.18
         ]
        }
       ],
       "layout": {
        "legend": {
         "bgcolor": "#F5F6F9",
         "font": {
          "color": "#4D5663"
         }
        },
        "paper_bgcolor": "#F5F6F9",
        "plot_bgcolor": "#F5F6F9",
        "title": {
         "font": {
          "color": "#4D5663"
         }
        },
        "xaxis": {
         "gridcolor": "#E1E5ED",
         "showgrid": true,
         "tickfont": {
          "color": "#4D5663"
         },
         "title": {
          "font": {
           "color": "#4D5663"
          },
          "text": ""
         },
         "zerolinecolor": "#E1E5ED"
        },
        "yaxis": {
         "gridcolor": "#E1E5ED",
         "showgrid": true,
         "tickfont": {
          "color": "#4D5663"
         },
         "title": {
          "font": {
           "color": "#4D5663"
          },
          "text": ""
         },
         "zerolinecolor": "#E1E5ED"
        }
       }
      },
      "text/html": [
       "<div id=\"03e14394-597d-4ca8-b0b3-2ee5522a9306\" style=\"height: 525px; width: 100%;\" class=\"plotly-graph-div\"></div><script type=\"text/javascript\">require([\"plotly\"], function(Plotly) { window.PLOTLYENV=window.PLOTLYENV || {};window.PLOTLYENV.BASE_URL=\"https://plot.ly\";Plotly.newPlot(\"03e14394-597d-4ca8-b0b3-2ee5522a9306\", [{\"line\": {\"color\": \"rgba(255, 153, 51, 1.0)\", \"dash\": \"solid\", \"shape\": \"linear\", \"width\": 1.3}, \"mode\": \"lines\", \"name\": \"payment\", \"text\": \"\", \"x\": [9, 13, 15, 17, 19, 23, 28, 33, 34, 35, 38, 43, 45, 55, 62, 64, 67, 71, 80, 84, 86, 88, 91, 92, 97, 102, 104, 112, 114, 121, 123, 130, 131, 136, 139, 141, 147, 149, 151, 156, 158, 159, 171, 172, 184, 188, 189, 190, 192, 194, 195, 197], \"y\": [46396.06, 39092.16, 36281.43, 47826.4, 41605.619999999995, 55996.380000000005, 37958.94, 48466.52, 45550.3, 40974.03, 42757.380000000005, 59757.36, 43821.9, 32061.75, 39985.96, 40723.92, 38259.0, 51577.66, 54498.84, 42885.68, 44140.799999999996, 55016.72, 33125.0, 47529.36, 41228.6, 50965.2, 56829.049999999996, 33814.08, 56349.899999999994, 49234.32000000001, 54796.409999999996, 57348.07, 42582.6, 36230.22, 35012.91, 47822.81, 46629.840000000004, 35049.74, 44253.04, 33179.25, 52858.75, 63687.15000000001, 33077.1, 34282.08, 48702.8, 54746.799999999996, 38067.450000000004, 34375.920000000006, 51248.6, 33931.7, 47219.88, 33319.18], \"type\": \"scatter\", \"uid\": \"4c0da832-155e-4adb-9f76-1c2ea37b7b6b\"}], {\"legend\": {\"bgcolor\": \"#F5F6F9\", \"font\": {\"color\": \"#4D5663\"}}, \"paper_bgcolor\": \"#F5F6F9\", \"plot_bgcolor\": \"#F5F6F9\", \"title\": {\"font\": {\"color\": \"#4D5663\"}}, \"xaxis\": {\"gridcolor\": \"#E1E5ED\", \"showgrid\": true, \"tickfont\": {\"color\": \"#4D5663\"}, \"title\": {\"text\": \"\", \"font\": {\"color\": \"#4D5663\"}}, \"zerolinecolor\": \"#E1E5ED\"}, \"yaxis\": {\"gridcolor\": \"#E1E5ED\", \"showgrid\": true, \"tickfont\": {\"color\": \"#4D5663\"}, \"title\": {\"text\": \"\", \"font\": {\"color\": \"#4D5663\"}}, \"zerolinecolor\": \"#E1E5ED\"}}, {\"showLink\": true, \"linkText\": \"Export to plot.ly\", \"plotlyServerURL\": \"https://plot.ly\"})});</script><script type=\"text/javascript\">window.addEventListener(\"resize\", function(){window._Plotly.Plots.resize(document.getElementById(\"03e14394-597d-4ca8-b0b3-2ee5522a9306\"));});</script>"
      ],
      "text/vnd.plotly.v1+html": [
       "<div id=\"03e14394-597d-4ca8-b0b3-2ee5522a9306\" style=\"height: 525px; width: 100%;\" class=\"plotly-graph-div\"></div><script type=\"text/javascript\">require([\"plotly\"], function(Plotly) { window.PLOTLYENV=window.PLOTLYENV || {};window.PLOTLYENV.BASE_URL=\"https://plot.ly\";Plotly.newPlot(\"03e14394-597d-4ca8-b0b3-2ee5522a9306\", [{\"line\": {\"color\": \"rgba(255, 153, 51, 1.0)\", \"dash\": \"solid\", \"shape\": \"linear\", \"width\": 1.3}, \"mode\": \"lines\", \"name\": \"payment\", \"text\": \"\", \"x\": [9, 13, 15, 17, 19, 23, 28, 33, 34, 35, 38, 43, 45, 55, 62, 64, 67, 71, 80, 84, 86, 88, 91, 92, 97, 102, 104, 112, 114, 121, 123, 130, 131, 136, 139, 141, 147, 149, 151, 156, 158, 159, 171, 172, 184, 188, 189, 190, 192, 194, 195, 197], \"y\": [46396.06, 39092.16, 36281.43, 47826.4, 41605.619999999995, 55996.380000000005, 37958.94, 48466.52, 45550.3, 40974.03, 42757.380000000005, 59757.36, 43821.9, 32061.75, 39985.96, 40723.92, 38259.0, 51577.66, 54498.84, 42885.68, 44140.799999999996, 55016.72, 33125.0, 47529.36, 41228.6, 50965.2, 56829.049999999996, 33814.08, 56349.899999999994, 49234.32000000001, 54796.409999999996, 57348.07, 42582.6, 36230.22, 35012.91, 47822.81, 46629.840000000004, 35049.74, 44253.04, 33179.25, 52858.75, 63687.15000000001, 33077.1, 34282.08, 48702.8, 54746.799999999996, 38067.450000000004, 34375.920000000006, 51248.6, 33931.7, 47219.88, 33319.18], \"type\": \"scatter\", \"uid\": \"4c0da832-155e-4adb-9f76-1c2ea37b7b6b\"}], {\"legend\": {\"bgcolor\": \"#F5F6F9\", \"font\": {\"color\": \"#4D5663\"}}, \"paper_bgcolor\": \"#F5F6F9\", \"plot_bgcolor\": \"#F5F6F9\", \"title\": {\"font\": {\"color\": \"#4D5663\"}}, \"xaxis\": {\"gridcolor\": \"#E1E5ED\", \"showgrid\": true, \"tickfont\": {\"color\": \"#4D5663\"}, \"title\": {\"text\": \"\", \"font\": {\"color\": \"#4D5663\"}}, \"zerolinecolor\": \"#E1E5ED\"}, \"yaxis\": {\"gridcolor\": \"#E1E5ED\", \"showgrid\": true, \"tickfont\": {\"color\": \"#4D5663\"}, \"title\": {\"text\": \"\", \"font\": {\"color\": \"#4D5663\"}}, \"zerolinecolor\": \"#E1E5ED\"}}, {\"showLink\": true, \"linkText\": \"Export to plot.ly\", \"plotlyServerURL\": \"https://plot.ly\"})});</script><script type=\"text/javascript\">window.addEventListener(\"resize\", function(){window._Plotly.Plots.resize(document.getElementById(\"03e14394-597d-4ca8-b0b3-2ee5522a9306\"));});</script>"
      ]
     },
     "metadata": {},
     "output_type": "display_data"
    },
    {
     "data": {
      "application/vnd.plotly.v1+json": {
       "config": {
        "linkText": "Export to plot.ly",
        "plotlyServerURL": "https://plot.ly",
        "showLink": true
       },
       "data": [
        {
         "boxpoints": false,
         "line": {
          "width": 1.3
         },
         "marker": {
          "color": "rgba(255, 153, 51, 1.0)"
         },
         "name": "fat(3-10%)",
         "orientation": "v",
         "type": "box",
         "uid": "d2e6ffd9-8f37-41ae-b9a0-9f8a6017da5d",
         "y": [
          7.04,
          10.31,
          7.6,
          9.83,
          3.74,
          10.69,
          10.13,
          9.04,
          6.49,
          4.44,
          6.18,
          6.7,
          7.81,
          5.47,
          5.32,
          8.68,
          9.15,
          5.85,
          8.06,
          8.87,
          9.71,
          10.72,
          6.28,
          4.27,
          7.48,
          7.42,
          3.48,
          6.7,
          6.63,
          9.58,
          7.71,
          7.9,
          7.1,
          6.5,
          9.99,
          9.18,
          6.52,
          10.18,
          5.43,
          3.59,
          3.32,
          9.99,
          7.16,
          4.07,
          3.95,
          6.79,
          3.44,
          9.69,
          8.7,
          9.93,
          5.19,
          5.65
         ]
        },
        {
         "boxpoints": false,
         "line": {
          "width": 1.3
         },
         "marker": {
          "color": "rgba(55, 128, 191, 1.0)"
         },
         "name": "clr(23-30)",
         "orientation": "v",
         "type": "box",
         "uid": "0eff4cf3-9290-46e0-b6b0-937130798d06",
         "y": [
          26.14,
          24.79,
          25.01,
          28.02,
          29.47,
          23.47,
          27.89,
          25.9,
          30.04,
          23.14,
          27.28,
          29.76,
          28.81,
          25.36,
          24.95,
          25.23,
          29.83,
          24.28,
          29.93,
          30.95,
          30.57,
          23.74,
          29.75,
          29.82,
          25.97,
          25.53,
          25.78,
          23.14,
          30.88,
          25.83,
          27.1,
          23.69,
          23.1,
          26.63,
          27.63,
          26.1,
          24.99,
          30.59,
          26.22,
          23.95,
          24.39,
          23.88,
          30.65,
          25.81,
          23.21,
          29.98,
          29.99,
          26.93,
          26.93,
          29.46,
          23.12,
          29.53
         ]
        }
       ],
       "layout": {
        "legend": {
         "bgcolor": "#F5F6F9",
         "font": {
          "color": "#4D5663"
         }
        },
        "paper_bgcolor": "#F5F6F9",
        "plot_bgcolor": "#F5F6F9",
        "title": {
         "font": {
          "color": "#4D5663"
         }
        },
        "xaxis": {
         "gridcolor": "#E1E5ED",
         "showgrid": true,
         "tickfont": {
          "color": "#4D5663"
         },
         "title": {
          "font": {
           "color": "#4D5663"
          },
          "text": ""
         },
         "zerolinecolor": "#E1E5ED"
        },
        "yaxis": {
         "gridcolor": "#E1E5ED",
         "showgrid": true,
         "tickfont": {
          "color": "#4D5663"
         },
         "title": {
          "font": {
           "color": "#4D5663"
          },
          "text": ""
         },
         "zerolinecolor": "#E1E5ED"
        }
       }
      },
      "text/html": [
       "<div id=\"68f0df39-9e7d-4fcc-9318-f1328ffa698f\" style=\"height: 525px; width: 100%;\" class=\"plotly-graph-div\"></div><script type=\"text/javascript\">require([\"plotly\"], function(Plotly) { window.PLOTLYENV=window.PLOTLYENV || {};window.PLOTLYENV.BASE_URL=\"https://plot.ly\";Plotly.newPlot(\"68f0df39-9e7d-4fcc-9318-f1328ffa698f\", [{\"boxpoints\": false, \"line\": {\"width\": 1.3}, \"marker\": {\"color\": \"rgba(255, 153, 51, 1.0)\"}, \"name\": \"fat(3-10%)\", \"orientation\": \"v\", \"y\": [7.04, 10.31, 7.6, 9.83, 3.74, 10.69, 10.13, 9.04, 6.49, 4.44, 6.18, 6.7, 7.81, 5.47, 5.32, 8.68, 9.15, 5.85, 8.06, 8.87, 9.71, 10.72, 6.28, 4.27, 7.48, 7.42, 3.48, 6.7, 6.63, 9.58, 7.71, 7.9, 7.1, 6.5, 9.99, 9.18, 6.52, 10.18, 5.43, 3.59, 3.32, 9.99, 7.16, 4.07, 3.95, 6.79, 3.44, 9.69, 8.7, 9.93, 5.19, 5.65], \"type\": \"box\", \"uid\": \"e998c4fd-47be-4c62-89c3-fa5af6986b74\"}, {\"boxpoints\": false, \"line\": {\"width\": 1.3}, \"marker\": {\"color\": \"rgba(55, 128, 191, 1.0)\"}, \"name\": \"clr(23-30)\", \"orientation\": \"v\", \"y\": [26.14, 24.79, 25.01, 28.02, 29.47, 23.47, 27.89, 25.9, 30.04, 23.14, 27.28, 29.76, 28.81, 25.36, 24.95, 25.23, 29.83, 24.28, 29.93, 30.95, 30.57, 23.74, 29.75, 29.82, 25.97, 25.53, 25.78, 23.14, 30.88, 25.83, 27.1, 23.69, 23.1, 26.63, 27.63, 26.1, 24.99, 30.59, 26.22, 23.95, 24.39, 23.88, 30.65, 25.81, 23.21, 29.98, 29.99, 26.93, 26.93, 29.46, 23.12, 29.53], \"type\": \"box\", \"uid\": \"77870a9b-d262-4661-8a94-767e2462f07b\"}], {\"legend\": {\"bgcolor\": \"#F5F6F9\", \"font\": {\"color\": \"#4D5663\"}}, \"paper_bgcolor\": \"#F5F6F9\", \"plot_bgcolor\": \"#F5F6F9\", \"title\": {\"font\": {\"color\": \"#4D5663\"}}, \"xaxis\": {\"gridcolor\": \"#E1E5ED\", \"showgrid\": true, \"tickfont\": {\"color\": \"#4D5663\"}, \"title\": {\"text\": \"\", \"font\": {\"color\": \"#4D5663\"}}, \"zerolinecolor\": \"#E1E5ED\"}, \"yaxis\": {\"gridcolor\": \"#E1E5ED\", \"showgrid\": true, \"tickfont\": {\"color\": \"#4D5663\"}, \"title\": {\"text\": \"\", \"font\": {\"color\": \"#4D5663\"}}, \"zerolinecolor\": \"#E1E5ED\"}}, {\"showLink\": true, \"linkText\": \"Export to plot.ly\", \"plotlyServerURL\": \"https://plot.ly\"})});</script><script type=\"text/javascript\">window.addEventListener(\"resize\", function(){window._Plotly.Plots.resize(document.getElementById(\"68f0df39-9e7d-4fcc-9318-f1328ffa698f\"));});</script>"
      ],
      "text/vnd.plotly.v1+html": [
       "<div id=\"68f0df39-9e7d-4fcc-9318-f1328ffa698f\" style=\"height: 525px; width: 100%;\" class=\"plotly-graph-div\"></div><script type=\"text/javascript\">require([\"plotly\"], function(Plotly) { window.PLOTLYENV=window.PLOTLYENV || {};window.PLOTLYENV.BASE_URL=\"https://plot.ly\";Plotly.newPlot(\"68f0df39-9e7d-4fcc-9318-f1328ffa698f\", [{\"boxpoints\": false, \"line\": {\"width\": 1.3}, \"marker\": {\"color\": \"rgba(255, 153, 51, 1.0)\"}, \"name\": \"fat(3-10%)\", \"orientation\": \"v\", \"y\": [7.04, 10.31, 7.6, 9.83, 3.74, 10.69, 10.13, 9.04, 6.49, 4.44, 6.18, 6.7, 7.81, 5.47, 5.32, 8.68, 9.15, 5.85, 8.06, 8.87, 9.71, 10.72, 6.28, 4.27, 7.48, 7.42, 3.48, 6.7, 6.63, 9.58, 7.71, 7.9, 7.1, 6.5, 9.99, 9.18, 6.52, 10.18, 5.43, 3.59, 3.32, 9.99, 7.16, 4.07, 3.95, 6.79, 3.44, 9.69, 8.7, 9.93, 5.19, 5.65], \"type\": \"box\", \"uid\": \"e998c4fd-47be-4c62-89c3-fa5af6986b74\"}, {\"boxpoints\": false, \"line\": {\"width\": 1.3}, \"marker\": {\"color\": \"rgba(55, 128, 191, 1.0)\"}, \"name\": \"clr(23-30)\", \"orientation\": \"v\", \"y\": [26.14, 24.79, 25.01, 28.02, 29.47, 23.47, 27.89, 25.9, 30.04, 23.14, 27.28, 29.76, 28.81, 25.36, 24.95, 25.23, 29.83, 24.28, 29.93, 30.95, 30.57, 23.74, 29.75, 29.82, 25.97, 25.53, 25.78, 23.14, 30.88, 25.83, 27.1, 23.69, 23.1, 26.63, 27.63, 26.1, 24.99, 30.59, 26.22, 23.95, 24.39, 23.88, 30.65, 25.81, 23.21, 29.98, 29.99, 26.93, 26.93, 29.46, 23.12, 29.53], \"type\": \"box\", \"uid\": \"77870a9b-d262-4661-8a94-767e2462f07b\"}], {\"legend\": {\"bgcolor\": \"#F5F6F9\", \"font\": {\"color\": \"#4D5663\"}}, \"paper_bgcolor\": \"#F5F6F9\", \"plot_bgcolor\": \"#F5F6F9\", \"title\": {\"font\": {\"color\": \"#4D5663\"}}, \"xaxis\": {\"gridcolor\": \"#E1E5ED\", \"showgrid\": true, \"tickfont\": {\"color\": \"#4D5663\"}, \"title\": {\"text\": \"\", \"font\": {\"color\": \"#4D5663\"}}, \"zerolinecolor\": \"#E1E5ED\"}, \"yaxis\": {\"gridcolor\": \"#E1E5ED\", \"showgrid\": true, \"tickfont\": {\"color\": \"#4D5663\"}, \"title\": {\"text\": \"\", \"font\": {\"color\": \"#4D5663\"}}, \"zerolinecolor\": \"#E1E5ED\"}}, {\"showLink\": true, \"linkText\": \"Export to plot.ly\", \"plotlyServerURL\": \"https://plot.ly\"})});</script><script type=\"text/javascript\">window.addEventListener(\"resize\", function(){window._Plotly.Plots.resize(document.getElementById(\"68f0df39-9e7d-4fcc-9318-f1328ffa698f\"));});</script>"
      ]
     },
     "metadata": {},
     "output_type": "display_data"
    },
    {
     "data": {
      "application/vnd.plotly.v1+json": {
       "config": {
        "linkText": "Export to plot.ly",
        "plotlyServerURL": "https://plot.ly",
        "showLink": true
       },
       "data": [
        {
         "line": {
          "color": "rgba(255, 153, 51, 1.0)",
          "dash": "solid",
          "shape": "linear",
          "width": 1.3
         },
         "marker": {
          "size": 12,
          "symbol": "circle"
         },
         "mode": "markers",
         "name": "rate",
         "text": "",
         "type": "scatter",
         "uid": "802a94fa-bd16-40f8-aa3a-6c1c40d76420",
         "x": [
          8.543,
          8.859499999999999,
          8.3725,
          9.571,
          8.715499999999999,
          8.6055,
          9.5985,
          8.883,
          9.408,
          7.273,
          8.656,
          9.38,
          9.3645,
          8.033999999999999,
          7.9014999999999995,
          8.6435,
          9.8875,
          7.84,
          9.6945,
          10.1115,
          10.1845,
          8.679,
          9.2935,
          8.908999999999999,
          8.5885,
          8.4665,
          7.741,
          7.725,
          9.645999999999999,
          8.9735,
          8.917,
          8.102500000000001,
          7.795,
          8.5575,
          9.5055,
          8.961,
          8.151499999999999,
          10.2835,
          8.241,
          7.305499999999999,
          7.3614999999999995,
          8.568,
          9.6945,
          7.866499999999999,
          7.1925,
          9.453,
          8.785499999999999,
          9.2705,
          9.0725,
          9.951,
          7.418,
          9.1125
         ],
         "y": [
          59.33,
          56.82,
          53.91,
          62.6,
          50.37,
          65.34,
          55.74,
          63.94,
          65.54,
          69.33,
          53.38,
          69.81,
          63.51,
          54.25,
          62.09,
          58.68,
          65.4,
          52.31,
          65.19,
          64.88,
          66.88,
          68.09,
          66.25,
          60.24,
          68.6,
          52.65,
          60.65,
          63.68,
          64.77,
          69.54,
          68.41,
          60.43,
          69.24,
          51.61,
          50.09,
          61.39,
          60.09,
          55.99,
          50.06,
          53.95,
          61.25,
          69.15,
          58.03,
          50.12,
          62.6,
          65.96,
          68.59,
          66.62,
          59.8,
          62.26,
          53.72,
          51.98
         ]
        }
       ],
       "layout": {
        "legend": {
         "bgcolor": "#F5F6F9",
         "font": {
          "color": "#4D5663"
         }
        },
        "paper_bgcolor": "#F5F6F9",
        "plot_bgcolor": "#F5F6F9",
        "title": {
         "font": {
          "color": "#4D5663"
         }
        },
        "xaxis": {
         "gridcolor": "#E1E5ED",
         "showgrid": true,
         "tickfont": {
          "color": "#4D5663"
         },
         "title": {
          "font": {
           "color": "#4D5663"
          },
          "text": ""
         },
         "zerolinecolor": "#E1E5ED"
        },
        "yaxis": {
         "gridcolor": "#E1E5ED",
         "showgrid": true,
         "tickfont": {
          "color": "#4D5663"
         },
         "title": {
          "font": {
           "color": "#4D5663"
          },
          "text": ""
         },
         "zerolinecolor": "#E1E5ED"
        }
       }
      },
      "text/html": [
       "<div id=\"d8934625-2b80-4ef8-bd67-35415d4d2bbb\" style=\"height: 525px; width: 100%;\" class=\"plotly-graph-div\"></div><script type=\"text/javascript\">require([\"plotly\"], function(Plotly) { window.PLOTLYENV=window.PLOTLYENV || {};window.PLOTLYENV.BASE_URL=\"https://plot.ly\";Plotly.newPlot(\"d8934625-2b80-4ef8-bd67-35415d4d2bbb\", [{\"line\": {\"color\": \"rgba(255, 153, 51, 1.0)\", \"dash\": \"solid\", \"shape\": \"linear\", \"width\": 1.3}, \"marker\": {\"size\": 12, \"symbol\": \"circle\"}, \"mode\": \"markers\", \"name\": \"rate\", \"text\": \"\", \"x\": [8.543, 8.859499999999999, 8.3725, 9.571, 8.715499999999999, 8.6055, 9.5985, 8.883, 9.408, 7.273, 8.656, 9.38, 9.3645, 8.033999999999999, 7.9014999999999995, 8.6435, 9.8875, 7.84, 9.6945, 10.1115, 10.1845, 8.679, 9.2935, 8.908999999999999, 8.5885, 8.4665, 7.741, 7.725, 9.645999999999999, 8.9735, 8.917, 8.102500000000001, 7.795, 8.5575, 9.5055, 8.961, 8.151499999999999, 10.2835, 8.241, 7.305499999999999, 7.3614999999999995, 8.568, 9.6945, 7.866499999999999, 7.1925, 9.453, 8.785499999999999, 9.2705, 9.0725, 9.951, 7.418, 9.1125], \"y\": [59.33, 56.82, 53.91, 62.6, 50.37, 65.34, 55.74, 63.94, 65.54, 69.33, 53.38, 69.81, 63.51, 54.25, 62.09, 58.68, 65.4, 52.31, 65.19, 64.88, 66.88, 68.09, 66.25, 60.24, 68.6, 52.65, 60.65, 63.68, 64.77, 69.54, 68.41, 60.43, 69.24, 51.61, 50.09, 61.39, 60.09, 55.99, 50.06, 53.95, 61.25, 69.15, 58.03, 50.12, 62.6, 65.96, 68.59, 66.62, 59.8, 62.26, 53.72, 51.98], \"type\": \"scatter\", \"uid\": \"3ee2765d-980c-4587-95a0-ca57e755ef90\"}], {\"legend\": {\"bgcolor\": \"#F5F6F9\", \"font\": {\"color\": \"#4D5663\"}}, \"paper_bgcolor\": \"#F5F6F9\", \"plot_bgcolor\": \"#F5F6F9\", \"title\": {\"font\": {\"color\": \"#4D5663\"}}, \"xaxis\": {\"gridcolor\": \"#E1E5ED\", \"showgrid\": true, \"tickfont\": {\"color\": \"#4D5663\"}, \"title\": {\"text\": \"\", \"font\": {\"color\": \"#4D5663\"}}, \"zerolinecolor\": \"#E1E5ED\"}, \"yaxis\": {\"gridcolor\": \"#E1E5ED\", \"showgrid\": true, \"tickfont\": {\"color\": \"#4D5663\"}, \"title\": {\"text\": \"\", \"font\": {\"color\": \"#4D5663\"}}, \"zerolinecolor\": \"#E1E5ED\"}}, {\"showLink\": true, \"linkText\": \"Export to plot.ly\", \"plotlyServerURL\": \"https://plot.ly\"})});</script><script type=\"text/javascript\">window.addEventListener(\"resize\", function(){window._Plotly.Plots.resize(document.getElementById(\"d8934625-2b80-4ef8-bd67-35415d4d2bbb\"));});</script>"
      ],
      "text/vnd.plotly.v1+html": [
       "<div id=\"d8934625-2b80-4ef8-bd67-35415d4d2bbb\" style=\"height: 525px; width: 100%;\" class=\"plotly-graph-div\"></div><script type=\"text/javascript\">require([\"plotly\"], function(Plotly) { window.PLOTLYENV=window.PLOTLYENV || {};window.PLOTLYENV.BASE_URL=\"https://plot.ly\";Plotly.newPlot(\"d8934625-2b80-4ef8-bd67-35415d4d2bbb\", [{\"line\": {\"color\": \"rgba(255, 153, 51, 1.0)\", \"dash\": \"solid\", \"shape\": \"linear\", \"width\": 1.3}, \"marker\": {\"size\": 12, \"symbol\": \"circle\"}, \"mode\": \"markers\", \"name\": \"rate\", \"text\": \"\", \"x\": [8.543, 8.859499999999999, 8.3725, 9.571, 8.715499999999999, 8.6055, 9.5985, 8.883, 9.408, 7.273, 8.656, 9.38, 9.3645, 8.033999999999999, 7.9014999999999995, 8.6435, 9.8875, 7.84, 9.6945, 10.1115, 10.1845, 8.679, 9.2935, 8.908999999999999, 8.5885, 8.4665, 7.741, 7.725, 9.645999999999999, 8.9735, 8.917, 8.102500000000001, 7.795, 8.5575, 9.5055, 8.961, 8.151499999999999, 10.2835, 8.241, 7.305499999999999, 7.3614999999999995, 8.568, 9.6945, 7.866499999999999, 7.1925, 9.453, 8.785499999999999, 9.2705, 9.0725, 9.951, 7.418, 9.1125], \"y\": [59.33, 56.82, 53.91, 62.6, 50.37, 65.34, 55.74, 63.94, 65.54, 69.33, 53.38, 69.81, 63.51, 54.25, 62.09, 58.68, 65.4, 52.31, 65.19, 64.88, 66.88, 68.09, 66.25, 60.24, 68.6, 52.65, 60.65, 63.68, 64.77, 69.54, 68.41, 60.43, 69.24, 51.61, 50.09, 61.39, 60.09, 55.99, 50.06, 53.95, 61.25, 69.15, 58.03, 50.12, 62.6, 65.96, 68.59, 66.62, 59.8, 62.26, 53.72, 51.98], \"type\": \"scatter\", \"uid\": \"3ee2765d-980c-4587-95a0-ca57e755ef90\"}], {\"legend\": {\"bgcolor\": \"#F5F6F9\", \"font\": {\"color\": \"#4D5663\"}}, \"paper_bgcolor\": \"#F5F6F9\", \"plot_bgcolor\": \"#F5F6F9\", \"title\": {\"font\": {\"color\": \"#4D5663\"}}, \"xaxis\": {\"gridcolor\": \"#E1E5ED\", \"showgrid\": true, \"tickfont\": {\"color\": \"#4D5663\"}, \"title\": {\"text\": \"\", \"font\": {\"color\": \"#4D5663\"}}, \"zerolinecolor\": \"#E1E5ED\"}, \"yaxis\": {\"gridcolor\": \"#E1E5ED\", \"showgrid\": true, \"tickfont\": {\"color\": \"#4D5663\"}, \"title\": {\"text\": \"\", \"font\": {\"color\": \"#4D5663\"}}, \"zerolinecolor\": \"#E1E5ED\"}}, {\"showLink\": true, \"linkText\": \"Export to plot.ly\", \"plotlyServerURL\": \"https://plot.ly\"})});</script><script type=\"text/javascript\">window.addEventListener(\"resize\", function(){window._Plotly.Plots.resize(document.getElementById(\"d8934625-2b80-4ef8-bd67-35415d4d2bbb\"));});</script>"
      ]
     },
     "metadata": {},
     "output_type": "display_data"
    }
   ],
   "source": [
    "visualizeMilk(milk, 1, 1, 2017, 31, 12, 2017)"
   ]
  },
  {
   "cell_type": "code",
   "execution_count": 38,
   "metadata": {},
   "outputs": [
    {
     "name": "stdout",
     "output_type": "stream",
     "text": [
      "\n",
      "    Account Number: 1\n",
      "\n",
      "    Total Amount: 2209\n",
      "\n",
      "    Average Amount: (641, 831)\n",
      "\n",
      "    Total Visits: 3.0\n",
      "\n",
      "    Items Brought: 2.0\n",
      "\n",
      "    Items Sold: 1.0\n",
      "\n",
      "    Average Debt: (4225, 12383)\n",
      "\n",
      "    Average Transaction Rate: (81, 87)\n",
      "\n",
      "    Total Entities Purchased: 0\n",
      "\n",
      "    Total Entities Sold: 1\n",
      "\n",
      "    \n"
     ]
    },
    {
     "name": "stderr",
     "output_type": "stream",
     "text": [
      "/usr/lib/python3/dist-packages/ipykernel_launcher.py:58: FutureWarning:\n",
      "\n",
      "Comparing Series of datetimes with 'datetime.date'.  Currently, the\n",
      "'datetime.date' is coerced to a datetime. In the future pandas will\n",
      "not coerce, and a TypeError will be raised. To retain the current\n",
      "behavior, convert the 'datetime.date' to a datetime with\n",
      "'pd.Timestamp'.\n",
      "\n"
     ]
    }
   ],
   "source": [
    "print(sellerReportItemsGranular(items, 1, 1, 2017, 31, 12, 2017, 1))"
   ]
  },
  {
   "cell_type": "code",
   "execution_count": 39,
   "metadata": {},
   "outputs": [
    {
     "name": "stdout",
     "output_type": "stream",
     "text": [
      "\n",
      "    Total Amount: 37418\n",
      "\n",
      "    Average Amount: (742, 784)\n",
      "\n",
      "    Total Visits: 49.0\n",
      "\n",
      "    Items Brought: 35.0\n",
      "\n",
      "    Items Sold: 14.0\n",
      "\n",
      "    Average Debt: (14359, 16844)\n",
      "\n",
      "    Average Transaction Rate: (72, 77)\n",
      "\n",
      "    Total Entities Purchased: 0\n",
      "\n",
      "    Total Entities Sold: 14\n",
      "\n",
      "    \n"
     ]
    },
    {
     "name": "stderr",
     "output_type": "stream",
     "text": [
      "/usr/lib/python3/dist-packages/ipykernel_launcher.py:58: FutureWarning:\n",
      "\n",
      "Comparing Series of datetimes with 'datetime.date'.  Currently, the\n",
      "'datetime.date' is coerced to a datetime. In the future pandas will\n",
      "not coerce, and a TypeError will be raised. To retain the current\n",
      "behavior, convert the 'datetime.date' to a datetime with\n",
      "'pd.Timestamp'.\n",
      "\n"
     ]
    }
   ],
   "source": [
    "print(sellerReportItems(items, 1, 1, 2017, 31, 12, 2017))"
   ]
  },
  {
   "cell_type": "code",
   "execution_count": 51,
   "metadata": {},
   "outputs": [],
   "source": [
    "#print(passbookRecordsItemByAccount(items, 13, 1, 1, 2017, 31, 12, 2017))\n",
    "#passbookRecordsItemByItem(items, 1, 1, 1, 2017, 31, 12, 2017)"
   ]
  },
  {
   "cell_type": "code",
   "execution_count": 43,
   "metadata": {},
   "outputs": [
    {
     "name": "stderr",
     "output_type": "stream",
     "text": [
      "/usr/lib/python3/dist-packages/ipykernel_launcher.py:58: FutureWarning:\n",
      "\n",
      "Comparing Series of datetimes with 'datetime.date'.  Currently, the\n",
      "'datetime.date' is coerced to a datetime. In the future pandas will\n",
      "not coerce, and a TypeError will be raised. To retain the current\n",
      "behavior, convert the 'datetime.date' to a datetime with\n",
      "'pd.Timestamp'.\n",
      "\n"
     ]
    },
    {
     "data": {
      "application/vnd.plotly.v1+json": {
       "config": {
        "linkText": "Export to plot.ly",
        "plotlyServerURL": "https://plot.ly",
        "showLink": true
       },
       "data": [
        {
         "marker": {
          "color": "rgba(255, 153, 51, 0.6)",
          "line": {
           "color": "rgba(255, 153, 51, 1.0)",
           "width": 1
          }
         },
         "name": "quantity",
         "orientation": "v",
         "text": "",
         "type": "bar",
         "uid": "7383b606-2ada-4288-b7cf-12a3979c44ed",
         "x": [
          5,
          17,
          4,
          4,
          4,
          6,
          15,
          11,
          2,
          17,
          16,
          19,
          16,
          17,
          20
         ],
         "y": [
          608,
          954,
          659,
          961,
          522,
          784,
          757,
          722,
          669,
          540,
          663,
          837,
          944,
          686,
          984
         ]
        }
       ],
       "layout": {
        "legend": {
         "bgcolor": "#F5F6F9",
         "font": {
          "color": "#4D5663"
         }
        },
        "paper_bgcolor": "#F5F6F9",
        "plot_bgcolor": "#F5F6F9",
        "title": {
         "font": {
          "color": "#4D5663"
         }
        },
        "xaxis": {
         "gridcolor": "#E1E5ED",
         "showgrid": true,
         "tickfont": {
          "color": "#4D5663"
         },
         "title": {
          "font": {
           "color": "#4D5663"
          },
          "text": ""
         },
         "zerolinecolor": "#E1E5ED"
        },
        "yaxis": {
         "gridcolor": "#E1E5ED",
         "showgrid": true,
         "tickfont": {
          "color": "#4D5663"
         },
         "title": {
          "font": {
           "color": "#4D5663"
          },
          "text": ""
         },
         "zerolinecolor": "#E1E5ED"
        }
       }
      },
      "text/html": [
       "<div id=\"54dc7fc9-b51b-40c7-9a95-24033fe9f2d3\" style=\"height: 525px; width: 100%;\" class=\"plotly-graph-div\"></div><script type=\"text/javascript\">require([\"plotly\"], function(Plotly) { window.PLOTLYENV=window.PLOTLYENV || {};window.PLOTLYENV.BASE_URL=\"https://plot.ly\";Plotly.newPlot(\"54dc7fc9-b51b-40c7-9a95-24033fe9f2d3\", [{\"marker\": {\"color\": \"rgba(255, 153, 51, 0.6)\", \"line\": {\"color\": \"rgba(255, 153, 51, 1.0)\", \"width\": 1}}, \"name\": \"quantity\", \"orientation\": \"v\", \"text\": \"\", \"x\": [5, 17, 4, 4, 4, 6, 15, 11, 2, 17, 16, 19, 16, 17, 20], \"y\": [608, 954, 659, 961, 522, 784, 757, 722, 669, 540, 663, 837, 944, 686, 984], \"type\": \"bar\", \"uid\": \"5e8dd2df-b7f2-44f3-8c01-85f4bbe2a687\"}], {\"legend\": {\"bgcolor\": \"#F5F6F9\", \"font\": {\"color\": \"#4D5663\"}}, \"paper_bgcolor\": \"#F5F6F9\", \"plot_bgcolor\": \"#F5F6F9\", \"title\": {\"font\": {\"color\": \"#4D5663\"}}, \"xaxis\": {\"gridcolor\": \"#E1E5ED\", \"showgrid\": true, \"tickfont\": {\"color\": \"#4D5663\"}, \"title\": {\"text\": \"\", \"font\": {\"color\": \"#4D5663\"}}, \"zerolinecolor\": \"#E1E5ED\"}, \"yaxis\": {\"gridcolor\": \"#E1E5ED\", \"showgrid\": true, \"tickfont\": {\"color\": \"#4D5663\"}, \"title\": {\"text\": \"\", \"font\": {\"color\": \"#4D5663\"}}, \"zerolinecolor\": \"#E1E5ED\"}}, {\"showLink\": true, \"linkText\": \"Export to plot.ly\", \"plotlyServerURL\": \"https://plot.ly\"})});</script><script type=\"text/javascript\">window.addEventListener(\"resize\", function(){window._Plotly.Plots.resize(document.getElementById(\"54dc7fc9-b51b-40c7-9a95-24033fe9f2d3\"));});</script>"
      ],
      "text/vnd.plotly.v1+html": [
       "<div id=\"54dc7fc9-b51b-40c7-9a95-24033fe9f2d3\" style=\"height: 525px; width: 100%;\" class=\"plotly-graph-div\"></div><script type=\"text/javascript\">require([\"plotly\"], function(Plotly) { window.PLOTLYENV=window.PLOTLYENV || {};window.PLOTLYENV.BASE_URL=\"https://plot.ly\";Plotly.newPlot(\"54dc7fc9-b51b-40c7-9a95-24033fe9f2d3\", [{\"marker\": {\"color\": \"rgba(255, 153, 51, 0.6)\", \"line\": {\"color\": \"rgba(255, 153, 51, 1.0)\", \"width\": 1}}, \"name\": \"quantity\", \"orientation\": \"v\", \"text\": \"\", \"x\": [5, 17, 4, 4, 4, 6, 15, 11, 2, 17, 16, 19, 16, 17, 20], \"y\": [608, 954, 659, 961, 522, 784, 757, 722, 669, 540, 663, 837, 944, 686, 984], \"type\": \"bar\", \"uid\": \"5e8dd2df-b7f2-44f3-8c01-85f4bbe2a687\"}], {\"legend\": {\"bgcolor\": \"#F5F6F9\", \"font\": {\"color\": \"#4D5663\"}}, \"paper_bgcolor\": \"#F5F6F9\", \"plot_bgcolor\": \"#F5F6F9\", \"title\": {\"font\": {\"color\": \"#4D5663\"}}, \"xaxis\": {\"gridcolor\": \"#E1E5ED\", \"showgrid\": true, \"tickfont\": {\"color\": \"#4D5663\"}, \"title\": {\"text\": \"\", \"font\": {\"color\": \"#4D5663\"}}, \"zerolinecolor\": \"#E1E5ED\"}, \"yaxis\": {\"gridcolor\": \"#E1E5ED\", \"showgrid\": true, \"tickfont\": {\"color\": \"#4D5663\"}, \"title\": {\"text\": \"\", \"font\": {\"color\": \"#4D5663\"}}, \"zerolinecolor\": \"#E1E5ED\"}}, {\"showLink\": true, \"linkText\": \"Export to plot.ly\", \"plotlyServerURL\": \"https://plot.ly\"})});</script><script type=\"text/javascript\">window.addEventListener(\"resize\", function(){window._Plotly.Plots.resize(document.getElementById(\"54dc7fc9-b51b-40c7-9a95-24033fe9f2d3\"));});</script>"
      ]
     },
     "metadata": {},
     "output_type": "display_data"
    }
   ],
   "source": [
    "visualizeItemGranularByItemID(items, 1, 1, 1, 2017, 31, 12, 2017)"
   ]
  },
  {
   "cell_type": "code",
   "execution_count": 44,
   "metadata": {},
   "outputs": [
    {
     "name": "stderr",
     "output_type": "stream",
     "text": [
      "/usr/lib/python3/dist-packages/ipykernel_launcher.py:58: FutureWarning:\n",
      "\n",
      "Comparing Series of datetimes with 'datetime.date'.  Currently, the\n",
      "'datetime.date' is coerced to a datetime. In the future pandas will\n",
      "not coerce, and a TypeError will be raised. To retain the current\n",
      "behavior, convert the 'datetime.date' to a datetime with\n",
      "'pd.Timestamp'.\n",
      "\n"
     ]
    },
    {
     "data": {
      "application/vnd.plotly.v1+json": {
       "config": {
        "linkText": "Export to plot.ly",
        "plotlyServerURL": "https://plot.ly",
        "showLink": true
       },
       "data": [
        {
         "marker": {
          "color": "rgba(255, 153, 51, 0.6)",
          "line": {
           "color": "rgba(255, 153, 51, 1.0)",
           "width": 1
          }
         },
         "name": "quantity",
         "orientation": "v",
         "text": "",
         "type": "bar",
         "uid": "2ea8888a-ce18-477d-ac84-7e2d8107a6bd",
         "x": [
          5,
          4,
          5
         ],
         "y": [
          871,
          553,
          785
         ]
        }
       ],
       "layout": {
        "legend": {
         "bgcolor": "#F5F6F9",
         "font": {
          "color": "#4D5663"
         }
        },
        "paper_bgcolor": "#F5F6F9",
        "plot_bgcolor": "#F5F6F9",
        "title": {
         "font": {
          "color": "#4D5663"
         }
        },
        "xaxis": {
         "gridcolor": "#E1E5ED",
         "showgrid": true,
         "tickfont": {
          "color": "#4D5663"
         },
         "title": {
          "font": {
           "color": "#4D5663"
          },
          "text": ""
         },
         "zerolinecolor": "#E1E5ED"
        },
        "yaxis": {
         "gridcolor": "#E1E5ED",
         "showgrid": true,
         "tickfont": {
          "color": "#4D5663"
         },
         "title": {
          "font": {
           "color": "#4D5663"
          },
          "text": ""
         },
         "zerolinecolor": "#E1E5ED"
        }
       }
      },
      "text/html": [
       "<div id=\"3a8c8a37-a1ef-4f09-858f-4dbd3e63b0e6\" style=\"height: 525px; width: 100%;\" class=\"plotly-graph-div\"></div><script type=\"text/javascript\">require([\"plotly\"], function(Plotly) { window.PLOTLYENV=window.PLOTLYENV || {};window.PLOTLYENV.BASE_URL=\"https://plot.ly\";Plotly.newPlot(\"3a8c8a37-a1ef-4f09-858f-4dbd3e63b0e6\", [{\"marker\": {\"color\": \"rgba(255, 153, 51, 0.6)\", \"line\": {\"color\": \"rgba(255, 153, 51, 1.0)\", \"width\": 1}}, \"name\": \"quantity\", \"orientation\": \"v\", \"text\": \"\", \"x\": [5, 4, 5], \"y\": [871, 553, 785], \"type\": \"bar\", \"uid\": \"3636314d-b724-483a-929f-259a1ebffef7\"}], {\"legend\": {\"bgcolor\": \"#F5F6F9\", \"font\": {\"color\": \"#4D5663\"}}, \"paper_bgcolor\": \"#F5F6F9\", \"plot_bgcolor\": \"#F5F6F9\", \"title\": {\"font\": {\"color\": \"#4D5663\"}}, \"xaxis\": {\"gridcolor\": \"#E1E5ED\", \"showgrid\": true, \"tickfont\": {\"color\": \"#4D5663\"}, \"title\": {\"text\": \"\", \"font\": {\"color\": \"#4D5663\"}}, \"zerolinecolor\": \"#E1E5ED\"}, \"yaxis\": {\"gridcolor\": \"#E1E5ED\", \"showgrid\": true, \"tickfont\": {\"color\": \"#4D5663\"}, \"title\": {\"text\": \"\", \"font\": {\"color\": \"#4D5663\"}}, \"zerolinecolor\": \"#E1E5ED\"}}, {\"showLink\": true, \"linkText\": \"Export to plot.ly\", \"plotlyServerURL\": \"https://plot.ly\"})});</script><script type=\"text/javascript\">window.addEventListener(\"resize\", function(){window._Plotly.Plots.resize(document.getElementById(\"3a8c8a37-a1ef-4f09-858f-4dbd3e63b0e6\"));});</script>"
      ],
      "text/vnd.plotly.v1+html": [
       "<div id=\"3a8c8a37-a1ef-4f09-858f-4dbd3e63b0e6\" style=\"height: 525px; width: 100%;\" class=\"plotly-graph-div\"></div><script type=\"text/javascript\">require([\"plotly\"], function(Plotly) { window.PLOTLYENV=window.PLOTLYENV || {};window.PLOTLYENV.BASE_URL=\"https://plot.ly\";Plotly.newPlot(\"3a8c8a37-a1ef-4f09-858f-4dbd3e63b0e6\", [{\"marker\": {\"color\": \"rgba(255, 153, 51, 0.6)\", \"line\": {\"color\": \"rgba(255, 153, 51, 1.0)\", \"width\": 1}}, \"name\": \"quantity\", \"orientation\": \"v\", \"text\": \"\", \"x\": [5, 4, 5], \"y\": [871, 553, 785], \"type\": \"bar\", \"uid\": \"3636314d-b724-483a-929f-259a1ebffef7\"}], {\"legend\": {\"bgcolor\": \"#F5F6F9\", \"font\": {\"color\": \"#4D5663\"}}, \"paper_bgcolor\": \"#F5F6F9\", \"plot_bgcolor\": \"#F5F6F9\", \"title\": {\"font\": {\"color\": \"#4D5663\"}}, \"xaxis\": {\"gridcolor\": \"#E1E5ED\", \"showgrid\": true, \"tickfont\": {\"color\": \"#4D5663\"}, \"title\": {\"text\": \"\", \"font\": {\"color\": \"#4D5663\"}}, \"zerolinecolor\": \"#E1E5ED\"}, \"yaxis\": {\"gridcolor\": \"#E1E5ED\", \"showgrid\": true, \"tickfont\": {\"color\": \"#4D5663\"}, \"title\": {\"text\": \"\", \"font\": {\"color\": \"#4D5663\"}}, \"zerolinecolor\": \"#E1E5ED\"}}, {\"showLink\": true, \"linkText\": \"Export to plot.ly\", \"plotlyServerURL\": \"https://plot.ly\"})});</script><script type=\"text/javascript\">window.addEventListener(\"resize\", function(){window._Plotly.Plots.resize(document.getElementById(\"3a8c8a37-a1ef-4f09-858f-4dbd3e63b0e6\"));});</script>"
      ]
     },
     "metadata": {},
     "output_type": "display_data"
    }
   ],
   "source": [
    "visualizeItemGranularByAccId(items, 1, 1, 1, 2017, 31, 12, 2017)"
   ]
  },
  {
   "cell_type": "code",
   "execution_count": 45,
   "metadata": {},
   "outputs": [
    {
     "name": "stderr",
     "output_type": "stream",
     "text": [
      "/usr/lib/python3/dist-packages/ipykernel_launcher.py:58: FutureWarning:\n",
      "\n",
      "Comparing Series of datetimes with 'datetime.date'.  Currently, the\n",
      "'datetime.date' is coerced to a datetime. In the future pandas will\n",
      "not coerce, and a TypeError will be raised. To retain the current\n",
      "behavior, convert the 'datetime.date' to a datetime with\n",
      "'pd.Timestamp'.\n",
      "\n"
     ]
    },
    {
     "data": {
      "application/vnd.plotly.v1+json": {
       "config": {
        "linkText": "Export to plot.ly",
        "plotlyServerURL": "https://plot.ly",
        "showLink": true
       },
       "data": [
        {
         "line": {
          "color": "rgba(255, 153, 51, 1.0)",
          "dash": "solid",
          "shape": "linear",
          "width": 1.3
         },
         "mode": "lines",
         "name": "total amount",
         "text": "",
         "type": "scatter",
         "uid": "1721613f-3cbf-40f2-9670-616261e477c6",
         "x": [
          2,
          5,
          13,
          17,
          19,
          21,
          30,
          32,
          35,
          42,
          48,
          50,
          53,
          57,
          68,
          69,
          71,
          75,
          79,
          87,
          88,
          91,
          96,
          100,
          101,
          102,
          113,
          115,
          118,
          119,
          137,
          139,
          140,
          146,
          148,
          150,
          153,
          158,
          160,
          163,
          166,
          172,
          179,
          181,
          183,
          187,
          193,
          199,
          200
         ],
         "y": [
          48960,
          49086,
          70551,
          30400,
          78894,
          86220,
          47700,
          66960,
          61317,
          32950,
          67164,
          59160,
          48050,
          52083,
          86386,
          26100,
          60930,
          39200,
          72900,
          37850,
          79020,
          49770,
          36100,
          62228,
          67304,
          89010,
          52922,
          55647,
          33450,
          48692,
          63585,
          27000,
          33150,
          68364,
          76734,
          79947,
          75411,
          41850,
          61740,
          46089,
          70470,
          81216,
          47200,
          60120,
          65124,
          34300,
          49200,
          52326,
          88290
         ]
        }
       ],
       "layout": {
        "legend": {
         "bgcolor": "#F5F6F9",
         "font": {
          "color": "#4D5663"
         }
        },
        "paper_bgcolor": "#F5F6F9",
        "plot_bgcolor": "#F5F6F9",
        "title": {
         "font": {
          "color": "#4D5663"
         }
        },
        "xaxis": {
         "gridcolor": "#E1E5ED",
         "showgrid": true,
         "tickfont": {
          "color": "#4D5663"
         },
         "title": {
          "font": {
           "color": "#4D5663"
          },
          "text": ""
         },
         "zerolinecolor": "#E1E5ED"
        },
        "yaxis": {
         "gridcolor": "#E1E5ED",
         "showgrid": true,
         "tickfont": {
          "color": "#4D5663"
         },
         "title": {
          "font": {
           "color": "#4D5663"
          },
          "text": ""
         },
         "zerolinecolor": "#E1E5ED"
        }
       }
      },
      "text/html": [
       "<div id=\"d1221768-208c-4b69-beee-14e6f275cfbb\" style=\"height: 525px; width: 100%;\" class=\"plotly-graph-div\"></div><script type=\"text/javascript\">require([\"plotly\"], function(Plotly) { window.PLOTLYENV=window.PLOTLYENV || {};window.PLOTLYENV.BASE_URL=\"https://plot.ly\";Plotly.newPlot(\"d1221768-208c-4b69-beee-14e6f275cfbb\", [{\"line\": {\"color\": \"rgba(255, 153, 51, 1.0)\", \"dash\": \"solid\", \"shape\": \"linear\", \"width\": 1.3}, \"mode\": \"lines\", \"name\": \"total amount\", \"text\": \"\", \"x\": [2, 5, 13, 17, 19, 21, 30, 32, 35, 42, 48, 50, 53, 57, 68, 69, 71, 75, 79, 87, 88, 91, 96, 100, 101, 102, 113, 115, 118, 119, 137, 139, 140, 146, 148, 150, 153, 158, 160, 163, 166, 172, 179, 181, 183, 187, 193, 199, 200], \"y\": [48960, 49086, 70551, 30400, 78894, 86220, 47700, 66960, 61317, 32950, 67164, 59160, 48050, 52083, 86386, 26100, 60930, 39200, 72900, 37850, 79020, 49770, 36100, 62228, 67304, 89010, 52922, 55647, 33450, 48692, 63585, 27000, 33150, 68364, 76734, 79947, 75411, 41850, 61740, 46089, 70470, 81216, 47200, 60120, 65124, 34300, 49200, 52326, 88290], \"type\": \"scatter\", \"uid\": \"ef444c6a-0f0f-490b-8fee-699d6c4209f9\"}], {\"legend\": {\"bgcolor\": \"#F5F6F9\", \"font\": {\"color\": \"#4D5663\"}}, \"paper_bgcolor\": \"#F5F6F9\", \"plot_bgcolor\": \"#F5F6F9\", \"title\": {\"font\": {\"color\": \"#4D5663\"}}, \"xaxis\": {\"gridcolor\": \"#E1E5ED\", \"showgrid\": true, \"tickfont\": {\"color\": \"#4D5663\"}, \"title\": {\"text\": \"\", \"font\": {\"color\": \"#4D5663\"}}, \"zerolinecolor\": \"#E1E5ED\"}, \"yaxis\": {\"gridcolor\": \"#E1E5ED\", \"showgrid\": true, \"tickfont\": {\"color\": \"#4D5663\"}, \"title\": {\"text\": \"\", \"font\": {\"color\": \"#4D5663\"}}, \"zerolinecolor\": \"#E1E5ED\"}}, {\"showLink\": true, \"linkText\": \"Export to plot.ly\", \"plotlyServerURL\": \"https://plot.ly\"})});</script><script type=\"text/javascript\">window.addEventListener(\"resize\", function(){window._Plotly.Plots.resize(document.getElementById(\"d1221768-208c-4b69-beee-14e6f275cfbb\"));});</script>"
      ],
      "text/vnd.plotly.v1+html": [
       "<div id=\"d1221768-208c-4b69-beee-14e6f275cfbb\" style=\"height: 525px; width: 100%;\" class=\"plotly-graph-div\"></div><script type=\"text/javascript\">require([\"plotly\"], function(Plotly) { window.PLOTLYENV=window.PLOTLYENV || {};window.PLOTLYENV.BASE_URL=\"https://plot.ly\";Plotly.newPlot(\"d1221768-208c-4b69-beee-14e6f275cfbb\", [{\"line\": {\"color\": \"rgba(255, 153, 51, 1.0)\", \"dash\": \"solid\", \"shape\": \"linear\", \"width\": 1.3}, \"mode\": \"lines\", \"name\": \"total amount\", \"text\": \"\", \"x\": [2, 5, 13, 17, 19, 21, 30, 32, 35, 42, 48, 50, 53, 57, 68, 69, 71, 75, 79, 87, 88, 91, 96, 100, 101, 102, 113, 115, 118, 119, 137, 139, 140, 146, 148, 150, 153, 158, 160, 163, 166, 172, 179, 181, 183, 187, 193, 199, 200], \"y\": [48960, 49086, 70551, 30400, 78894, 86220, 47700, 66960, 61317, 32950, 67164, 59160, 48050, 52083, 86386, 26100, 60930, 39200, 72900, 37850, 79020, 49770, 36100, 62228, 67304, 89010, 52922, 55647, 33450, 48692, 63585, 27000, 33150, 68364, 76734, 79947, 75411, 41850, 61740, 46089, 70470, 81216, 47200, 60120, 65124, 34300, 49200, 52326, 88290], \"type\": \"scatter\", \"uid\": \"ef444c6a-0f0f-490b-8fee-699d6c4209f9\"}], {\"legend\": {\"bgcolor\": \"#F5F6F9\", \"font\": {\"color\": \"#4D5663\"}}, \"paper_bgcolor\": \"#F5F6F9\", \"plot_bgcolor\": \"#F5F6F9\", \"title\": {\"font\": {\"color\": \"#4D5663\"}}, \"xaxis\": {\"gridcolor\": \"#E1E5ED\", \"showgrid\": true, \"tickfont\": {\"color\": \"#4D5663\"}, \"title\": {\"text\": \"\", \"font\": {\"color\": \"#4D5663\"}}, \"zerolinecolor\": \"#E1E5ED\"}, \"yaxis\": {\"gridcolor\": \"#E1E5ED\", \"showgrid\": true, \"tickfont\": {\"color\": \"#4D5663\"}, \"title\": {\"text\": \"\", \"font\": {\"color\": \"#4D5663\"}}, \"zerolinecolor\": \"#E1E5ED\"}}, {\"showLink\": true, \"linkText\": \"Export to plot.ly\", \"plotlyServerURL\": \"https://plot.ly\"})});</script><script type=\"text/javascript\">window.addEventListener(\"resize\", function(){window._Plotly.Plots.resize(document.getElementById(\"d1221768-208c-4b69-beee-14e6f275cfbb\"));});</script>"
      ]
     },
     "metadata": {},
     "output_type": "display_data"
    }
   ],
   "source": [
    "visualizeItems(items, 1, 1, 2017, 31, 12, 2017)"
   ]
  }
 ],
 "metadata": {
  "kernelspec": {
   "display_name": "Python 3",
   "language": "python",
   "name": "python3"
  },
  "language_info": {
   "codemirror_mode": {
    "name": "ipython",
    "version": 3
   },
   "file_extension": ".py",
   "mimetype": "text/x-python",
   "name": "python",
   "nbconvert_exporter": "python",
   "pygments_lexer": "ipython3",
   "version": "3.7.3rc1"
  }
 },
 "nbformat": 4,
 "nbformat_minor": 2
}

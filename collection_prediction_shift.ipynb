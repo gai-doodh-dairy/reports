{
 "cells": [
  {
   "cell_type": "code",
   "execution_count": 44,
   "metadata": {},
   "outputs": [],
   "source": [
    "import pandas as pd\n",
    "import numpy as np\n",
    "#import matplotlib as mpl\n",
    "import matplotlib.pyplot as plt\n",
    "import seaborn as sns\n",
    "sns.set_context('notebook')\n",
    "sns.set_style('white')\n",
    "%matplotlib inline"
   ]
  },
  {
   "cell_type": "code",
   "execution_count": 45,
   "metadata": {},
   "outputs": [
    {
     "data": {
      "text/html": [
       "<div>\n",
       "<style scoped>\n",
       "    .dataframe tbody tr th:only-of-type {\n",
       "        vertical-align: middle;\n",
       "    }\n",
       "\n",
       "    .dataframe tbody tr th {\n",
       "        vertical-align: top;\n",
       "    }\n",
       "\n",
       "    .dataframe thead th {\n",
       "        text-align: right;\n",
       "    }\n",
       "</style>\n",
       "<table border=\"1\" class=\"dataframe\">\n",
       "  <thead>\n",
       "    <tr style=\"text-align: right;\">\n",
       "      <th></th>\n",
       "      <th>Acc</th>\n",
       "      <th>Cans</th>\n",
       "      <th>Kilograms</th>\n",
       "      <th>Fat</th>\n",
       "      <th>SNF</th>\n",
       "      <th>Shift</th>\n",
       "    </tr>\n",
       "  </thead>\n",
       "  <tbody>\n",
       "    <tr>\n",
       "      <th>Acc</th>\n",
       "      <td>1.457201e+06</td>\n",
       "      <td>549.872536</td>\n",
       "      <td>22280.209776</td>\n",
       "      <td>521.973137</td>\n",
       "      <td>166.794308</td>\n",
       "      <td>-0.031143</td>\n",
       "    </tr>\n",
       "    <tr>\n",
       "      <th>Cans</th>\n",
       "      <td>5.498725e+02</td>\n",
       "      <td>1.618829</td>\n",
       "      <td>61.575674</td>\n",
       "      <td>0.262894</td>\n",
       "      <td>0.117379</td>\n",
       "      <td>0.018189</td>\n",
       "    </tr>\n",
       "    <tr>\n",
       "      <th>Kilograms</th>\n",
       "      <td>2.228021e+04</td>\n",
       "      <td>61.575674</td>\n",
       "      <td>2498.500756</td>\n",
       "      <td>9.858123</td>\n",
       "      <td>4.537264</td>\n",
       "      <td>0.998010</td>\n",
       "    </tr>\n",
       "    <tr>\n",
       "      <th>Fat</th>\n",
       "      <td>5.219731e+02</td>\n",
       "      <td>0.262894</td>\n",
       "      <td>9.858123</td>\n",
       "      <td>1.306441</td>\n",
       "      <td>0.190198</td>\n",
       "      <td>-0.007682</td>\n",
       "    </tr>\n",
       "    <tr>\n",
       "      <th>SNF</th>\n",
       "      <td>1.667943e+02</td>\n",
       "      <td>0.117379</td>\n",
       "      <td>4.537264</td>\n",
       "      <td>0.190198</td>\n",
       "      <td>0.070163</td>\n",
       "      <td>0.002397</td>\n",
       "    </tr>\n",
       "    <tr>\n",
       "      <th>Shift</th>\n",
       "      <td>-3.114333e-02</td>\n",
       "      <td>0.018189</td>\n",
       "      <td>0.998010</td>\n",
       "      <td>-0.007682</td>\n",
       "      <td>0.002397</td>\n",
       "      <td>0.250019</td>\n",
       "    </tr>\n",
       "  </tbody>\n",
       "</table>\n",
       "</div>"
      ],
      "text/plain": [
       "                    Acc        Cans     Kilograms         Fat         SNF  \\\n",
       "Acc        1.457201e+06  549.872536  22280.209776  521.973137  166.794308   \n",
       "Cans       5.498725e+02    1.618829     61.575674    0.262894    0.117379   \n",
       "Kilograms  2.228021e+04   61.575674   2498.500756    9.858123    4.537264   \n",
       "Fat        5.219731e+02    0.262894      9.858123    1.306441    0.190198   \n",
       "SNF        1.667943e+02    0.117379      4.537264    0.190198    0.070163   \n",
       "Shift     -3.114333e-02    0.018189      0.998010   -0.007682    0.002397   \n",
       "\n",
       "              Shift  \n",
       "Acc       -0.031143  \n",
       "Cans       0.018189  \n",
       "Kilograms  0.998010  \n",
       "Fat       -0.007682  \n",
       "SNF        0.002397  \n",
       "Shift      0.250019  "
      ]
     },
     "execution_count": 45,
     "metadata": {},
     "output_type": "execute_result"
    }
   ],
   "source": [
    "df = pd.read_csv('final_data.csv')\n",
    "df.cov()"
   ]
  },
  {
   "cell_type": "code",
   "execution_count": null,
   "metadata": {},
   "outputs": [
    {
     "data": {
      "text/plain": [
       "<seaborn.axisgrid.PairGrid at 0x7fc90eb03748>"
      ]
     },
     "execution_count": 46,
     "metadata": {},
     "output_type": "execute_result"
    }
   ],
   "source": [
    "sns.pairplot(df)"
   ]
  },
  {
   "cell_type": "code",
   "execution_count": null,
   "metadata": {},
   "outputs": [],
   "source": [
    "sns.heatmap(df.corr())"
   ]
  },
  {
   "cell_type": "code",
   "execution_count": null,
   "metadata": {},
   "outputs": [],
   "source": [
    "sns.heatmap(df2.corr())"
   ]
  },
  {
   "cell_type": "code",
   "execution_count": null,
   "metadata": {},
   "outputs": [],
   "source": [
    "df2 = df[['Kilograms','Date', 'Shift']]\n",
    "sns.heatmap(df2.corr())"
   ]
  },
  {
   "cell_type": "code",
   "execution_count": null,
   "metadata": {},
   "outputs": [],
   "source": []
  },
  {
   "cell_type": "code",
   "execution_count": null,
   "metadata": {},
   "outputs": [],
   "source": [
    "df2 = df2.groupby(['Date', 'Shift']).sum()\n",
    "df2\n"
   ]
  },
  {
   "cell_type": "code",
   "execution_count": null,
   "metadata": {},
   "outputs": [],
   "source": [
    "#X = df2.loc[(, 0), :]\n",
    "df2.unstack()\n",
    "\n",
    "X = df2.unstack().loc[:, ('Kilograms', 0)]\n",
    "Y = df2.unstack().loc[:, ('Kilograms', 1)]"
   ]
  },
  {
   "cell_type": "code",
   "execution_count": null,
   "metadata": {},
   "outputs": [],
   "source": [
    "list(Y)"
   ]
  },
  {
   "cell_type": "code",
   "execution_count": null,
   "metadata": {},
   "outputs": [],
   "source": [
    "df_ultra = pd.DataFrame([list(X), list(Y)])"
   ]
  },
  {
   "cell_type": "code",
   "execution_count": null,
   "metadata": {},
   "outputs": [],
   "source": [
    "df_ultra"
   ]
  },
  {
   "cell_type": "code",
   "execution_count": null,
   "metadata": {},
   "outputs": [],
   "source": [
    "df_ultra = df_ultra.transpose()\n",
    "df_ultra"
   ]
  },
  {
   "cell_type": "code",
   "execution_count": null,
   "metadata": {},
   "outputs": [],
   "source": [
    "df_ultra.columns = ['X', 'Y']\n",
    "df_ultra"
   ]
  },
  {
   "cell_type": "code",
   "execution_count": null,
   "metadata": {},
   "outputs": [],
   "source": [
    "#df_ultra['X'].plot(kind='line')\n",
    "plt.scatter(df_ultra.X, df_ultra.Y)"
   ]
  },
  {
   "cell_type": "code",
   "execution_count": null,
   "metadata": {},
   "outputs": [],
   "source": [
    "from sklearn.linear_model import LinearRegression\n",
    "from sklearn.model_selection import train_test_split\n",
    "\n",
    "X_train, X_test, y_train, y_test = train_test_split(list(X), list(Y), test_size=0.3)\n",
    "print(len(y_train))\n",
    "model = LinearRegression()\n",
    "model.fit(np.array(X_train).reshape(-1, 1), np.array(y_train).reshape(-1, 1))\n",
    "\n",
    "y_pred = model.predict(np.array(X_test).reshape(-1, 1))\n",
    "\n",
    "#((y_test - y_pred) ** 2).sum() / len(y_test)\n",
    "model.score(np.array(X_test).reshape(-1, 1), np.array(y_test).reshape(-1, 1))"
   ]
  },
  {
   "cell_type": "code",
   "execution_count": null,
   "metadata": {},
   "outputs": [],
   "source": [
    "print(model.intercept_) "
   ]
  },
  {
   "cell_type": "code",
   "execution_count": null,
   "metadata": {},
   "outputs": [],
   "source": [
    "print(model.coef_) "
   ]
  },
  {
   "cell_type": "code",
   "execution_count": null,
   "metadata": {},
   "outputs": [],
   "source": [
    "plt.scatter(df_ultra.X, df_ultra.Y)\n",
    "plt.scatter(df_ultra.X, df_ultra.X * model.coef_[0][0] + model.intercept_)"
   ]
  },
  {
   "cell_type": "markdown",
   "metadata": {},
   "source": []
  },
  {
   "cell_type": "code",
   "execution_count": null,
   "metadata": {},
   "outputs": [],
   "source": []
  },
  {
   "cell_type": "code",
   "execution_count": null,
   "metadata": {},
   "outputs": [],
   "source": []
  },
  {
   "cell_type": "code",
   "execution_count": null,
   "metadata": {},
   "outputs": [],
   "source": []
  },
  {
   "cell_type": "code",
   "execution_count": null,
   "metadata": {},
   "outputs": [],
   "source": []
  },
  {
   "cell_type": "code",
   "execution_count": null,
   "metadata": {},
   "outputs": [],
   "source": []
  },
  {
   "cell_type": "code",
   "execution_count": null,
   "metadata": {},
   "outputs": [],
   "source": []
  },
  {
   "cell_type": "code",
   "execution_count": null,
   "metadata": {},
   "outputs": [],
   "source": []
  },
  {
   "cell_type": "code",
   "execution_count": null,
   "metadata": {},
   "outputs": [],
   "source": []
  },
  {
   "cell_type": "code",
   "execution_count": null,
   "metadata": {},
   "outputs": [],
   "source": []
  },
  {
   "cell_type": "code",
   "execution_count": null,
   "metadata": {},
   "outputs": [],
   "source": []
  },
  {
   "cell_type": "code",
   "execution_count": null,
   "metadata": {},
   "outputs": [],
   "source": []
  },
  {
   "cell_type": "code",
   "execution_count": null,
   "metadata": {},
   "outputs": [],
   "source": []
  },
  {
   "cell_type": "code",
   "execution_count": null,
   "metadata": {},
   "outputs": [],
   "source": []
  },
  {
   "cell_type": "code",
   "execution_count": null,
   "metadata": {},
   "outputs": [],
   "source": []
  },
  {
   "cell_type": "code",
   "execution_count": null,
   "metadata": {},
   "outputs": [],
   "source": []
  },
  {
   "cell_type": "code",
   "execution_count": null,
   "metadata": {},
   "outputs": [],
   "source": []
  },
  {
   "cell_type": "code",
   "execution_count": null,
   "metadata": {},
   "outputs": [],
   "source": []
  }
 ],
 "metadata": {
  "kernelspec": {
   "display_name": "Python 3",
   "language": "python",
   "name": "python3"
  },
  "language_info": {
   "codemirror_mode": {
    "name": "ipython",
    "version": 3
   },
   "file_extension": ".py",
   "mimetype": "text/x-python",
   "name": "python",
   "nbconvert_exporter": "python",
   "pygments_lexer": "ipython3",
   "version": "3.6.7"
  }
 },
 "nbformat": 4,
 "nbformat_minor": 2
}
